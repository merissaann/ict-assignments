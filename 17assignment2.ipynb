{
  "nbformat": 4,
  "nbformat_minor": 0,
  "metadata": {
    "colab": {
      "provenance": [],
      "authorship_tag": "ABX9TyObOHB9fYcxKrxeX7gAtHCs",
      "include_colab_link": true
    },
    "kernelspec": {
      "name": "python3",
      "display_name": "Python 3"
    },
    "language_info": {
      "name": "python"
    }
  },
  "cells": [
    {
      "cell_type": "markdown",
      "metadata": {
        "id": "view-in-github",
        "colab_type": "text"
      },
      "source": [
        "<a href=\"https://colab.research.google.com/github/merissaann/ict-assignments/blob/main/17assignment2.ipynb\" target=\"_parent\"><img src=\"https://colab.research.google.com/assets/colab-badge.svg\" alt=\"Open In Colab\"/></a>"
      ]
    },
    {
      "cell_type": "code",
      "execution_count": null,
      "metadata": {
        "id": "YM7-z9MQVAgv"
      },
      "outputs": [],
      "source": [
        "#Write a Python program to accept a string value from the user and display\n",
        "#the count of each character in that string. Sample input: Enter a string\n",
        "#value: assembly Sample output: a=1, s=2, e=1, m=1, b=1, l=1, y=1"
      ]
    },
    {
      "cell_type": "code",
      "source": [
        "from collections import Counter\n",
        "input_string = input(\"Enter a string value: \")\n",
        "char_count = Counter(input_string)\n",
        "output = ', '.join(f\"{char}={count}\" for char, count in char_count.items())\n",
        "print(output)\n"
      ],
      "metadata": {
        "id": "l3svwyJDZBlt",
        "colab": {
          "base_uri": "https://localhost:8080/"
        },
        "outputId": "6d795c7a-4633-46cd-925a-84d87983eefb"
      },
      "execution_count": 1,
      "outputs": [
        {
          "output_type": "stream",
          "name": "stdout",
          "text": [
            "Enter a string value: merissa\n",
            "m=1, e=1, r=1, i=1, s=2, a=1\n"
          ]
        }
      ]
    },
    {
      "cell_type": "code",
      "source": [
        "# Write a Python function to find the maximum of three numbers Sample input: 34,12,7 Sample output: 34"
      ],
      "metadata": {
        "id": "Vbssg5RrHEBM"
      },
      "execution_count": 2,
      "outputs": []
    },
    {
      "cell_type": "code",
      "source": [
        "lists=[34,12,7]\n",
        "max_val=0\n",
        "for i in range( len(lists)):\n",
        "  if max_val < lists[i]:\n",
        "    max_val=lists[i]\n",
        "print(max_val,\" is the largest\")"
      ],
      "metadata": {
        "colab": {
          "base_uri": "https://localhost:8080/"
        },
        "id": "kzBrV9uVT-bD",
        "outputId": "1845e7ed-b76b-455e-e8ac-a73fd8cb42d1"
      },
      "execution_count": 3,
      "outputs": [
        {
          "output_type": "stream",
          "name": "stdout",
          "text": [
            "34  is the largest\n"
          ]
        }
      ]
    },
    {
      "cell_type": "code",
      "source": [
        "#Write a Python function called exponent(base,exp) that returns an\n",
        "#integer value of base raises to the power of exp. Sample input: Enter the\n",
        "#base: 2 Enter the exponent: 3 Sample output: 8"
      ],
      "metadata": {
        "id": "WA4YR429UMPC"
      },
      "execution_count": 4,
      "outputs": []
    },
    {
      "cell_type": "code",
      "source": [
        "def exponent(base,exp):\n",
        "  result=base**exp\n",
        "  return result\n",
        "base=int(input(\"enter the base : \"))\n",
        "exp=int(input(\"enter the exponent : \"))\n",
        "print(\"result =\",exponent(base,exp))"
      ],
      "metadata": {
        "colab": {
          "base_uri": "https://localhost:8080/"
        },
        "id": "7NCTmjqdUqZu",
        "outputId": "16bbad7d-a509-4a36-f471-886ed2b7f1f7"
      },
      "execution_count": 5,
      "outputs": [
        {
          "output_type": "stream",
          "name": "stdout",
          "text": [
            "enter the base : 2\n",
            "enter the exponent : 3\n",
            "result = 8\n"
          ]
        }
      ]
    },
    {
      "cell_type": "code",
      "source": [
        "#Write a Python function that takes a positive integer and returns the sum\n",
        "#of the cube of all the positive integers smaller than the specified number.\n",
        "#Sample input: 4 Sample output: 36."
      ],
      "metadata": {
        "id": "SF3aqhpWVQUw"
      },
      "execution_count": 6,
      "outputs": []
    },
    {
      "cell_type": "code",
      "source": [
        "def cube_sum(n):\n",
        "  sum=0\n",
        "  for i in range(1,n):\n",
        "    sum=sum+i**3\n",
        "  return sum\n",
        "n=int(input(\"enter the number \"))\n",
        "print(\"output =\",cube_sum(n))"
      ],
      "metadata": {
        "colab": {
          "base_uri": "https://localhost:8080/"
        },
        "id": "Z9vI2_LwVYgL",
        "outputId": "bd22e83f-51e8-40a6-9608-a04a85862537"
      },
      "execution_count": 8,
      "outputs": [
        {
          "output_type": "stream",
          "name": "stdout",
          "text": [
            "enter the number 4\n",
            "output = 36\n"
          ]
        }
      ]
    },
    {
      "cell_type": "code",
      "source": [
        "#Write a Python program which iterates from 1 to 10. For multiples of 2,\n",
        "#print “Fizz” instead of the number and for the multiples of 5, print “Buzz”.\n",
        "#For numbers which are multiples of both 2 and 5, print “FizzBuzz”.\n",
        "#Sample input: numbers from 1 to 10 Sample output: 1 Fizz 3 Fizz Buzz\n",
        "#Fizz 7 Fizz 9 FizzBuzz"
      ],
      "metadata": {
        "id": "K5eSwPkDWQqF"
      },
      "execution_count": 9,
      "outputs": []
    },
    {
      "cell_type": "code",
      "source": [
        "for i in range(1,11):\n",
        "  if  i%2==0 and i%5==0:\n",
        "    print(\"FizzBuzz\",end=\" \")\n",
        "  elif i%5==0:\n",
        "    print(\"Buzz\",end=\" \")\n",
        "  elif i%2==0:\n",
        "    print(\"Fizz\",end=\" \")\n",
        "  else:\n",
        "    print(i,end=\" \")"
      ],
      "metadata": {
        "colab": {
          "base_uri": "https://localhost:8080/"
        },
        "id": "CdgSLy8sW-ZB",
        "outputId": "ebb0a72d-2005-4f0f-c203-7d82929e29d8"
      },
      "execution_count": 14,
      "outputs": [
        {
          "output_type": "stream",
          "name": "stdout",
          "text": [
            "1 Fizz 3 Fizz Buzz Fizz 7 Fizz 9 FizzBuzz "
          ]
        }
      ]
    },
    {
      "cell_type": "code",
      "source": [
        "#Write a Python program to find the most frequent item in a list of numbers. Sample input: 2, 3, 4, 2, 5, 2 Sample output: 2"
      ],
      "metadata": {
        "id": "a5iNM3M-X5Mw"
      },
      "execution_count": 15,
      "outputs": []
    },
    {
      "cell_type": "code",
      "source": [
        "from collections import Counter\n",
        "numbers = list(map(int, input(\"Enter numbers separated by commas: \").split(',')))\n",
        "frequency = Counter(numbers)\n",
        "max_frequency = max(frequency.values())\n",
        "most_frequent_items = [num for num, freq in frequency.items() if freq == max_frequency]\n",
        "print(\"The most frequent item(s):\", ', '.join(map(str, most_frequent_items)))"
      ],
      "metadata": {
        "colab": {
          "base_uri": "https://localhost:8080/"
        },
        "id": "W6WksuudaWLy",
        "outputId": "6cd54162-6b72-4f25-ff9d-09f9246ecc1f"
      },
      "execution_count": 18,
      "outputs": [
        {
          "output_type": "stream",
          "name": "stdout",
          "text": [
            "Enter numbers separated by commas: 2,3,4,5,6,5,4,3\n",
            "The most frequent item(s): 3, 4, 5\n"
          ]
        }
      ]
    },
    {
      "cell_type": "code",
      "source": [
        "#Write a Python program to find the sum of squares of the numbers in a list. Sample input: 2,1,3,1 Sample output: 15"
      ],
      "metadata": {
        "id": "enEbZ150afn3"
      },
      "execution_count": 19,
      "outputs": []
    },
    {
      "cell_type": "code",
      "source": [
        "lists=[2,1,3,1]\n",
        "sum=0\n",
        "for i in range(len(lists)):\n",
        "  sum=sum+(lists[i]**2)\n",
        "print(\"sum =\",sum)"
      ],
      "metadata": {
        "colab": {
          "base_uri": "https://localhost:8080/"
        },
        "id": "avlYXUEvbqKK",
        "outputId": "f75aa6fd-a33c-4a51-97f9-720cdb399000"
      },
      "execution_count": 20,
      "outputs": [
        {
          "output_type": "stream",
          "name": "stdout",
          "text": [
            "sum = 15\n"
          ]
        }
      ]
    },
    {
      "cell_type": "code",
      "source": [
        "# Write a Python program using for loop that will iterate from 1 to 15. For\n",
        "#each iteration, check if the current number is odd or even, and display the\n",
        "#message to the screen as odd or even. Sample input: 1….15 Sample\n",
        "#output: 1-odd 2-even …. 15-odd"
      ],
      "metadata": {
        "id": "6djfa6WCcKqj"
      },
      "execution_count": 21,
      "outputs": []
    },
    {
      "cell_type": "code",
      "source": [
        "for i in range(1,16):\n",
        "  if i%2==0:\n",
        "    print(i,\"-even\",end=\" \")\n",
        "  else:\n",
        "     print(i,\"-odd\",end=\" \")"
      ],
      "metadata": {
        "colab": {
          "base_uri": "https://localhost:8080/"
        },
        "id": "ejxVX80-cR1u",
        "outputId": "742bbdac-8540-44aa-d4d7-179990048eab"
      },
      "execution_count": 22,
      "outputs": [
        {
          "output_type": "stream",
          "name": "stdout",
          "text": [
            "1 -odd 2 -even 3 -odd 4 -even 5 -odd 6 -even 7 -odd 8 -even 9 -odd 10 -even 11 -odd 12 -even 13 -odd 14 -even 15 -odd "
          ]
        }
      ]
    },
    {
      "cell_type": "code",
      "source": [
        "#Write a Python program to convert temperatures to and from Celsius\n",
        "#Fahrenheit. [Formula: c/5=f-32/9 where c=temperature in Celsius and f=\n",
        "#temperature in Fahrenheit.] Sample input: Temperature in Fahrenheit\n",
        "#=41 Sample output: Temperature in Celsius =5"
      ],
      "metadata": {
        "id": "xV2-NeEcc4Qq"
      },
      "execution_count": 23,
      "outputs": []
    },
    {
      "cell_type": "code",
      "source": [
        "temp=int(input(\"enter the temp in faahrenheit :\"))\n",
        "c=(temp-32)*(5/9)\n",
        "print(\"temperature in celsius :\",c)"
      ],
      "metadata": {
        "colab": {
          "base_uri": "https://localhost:8080/"
        },
        "id": "K3ZF9rPUc_99",
        "outputId": "0c8ab512-f919-4087-c682-7cbe7d75b09d"
      },
      "execution_count": 27,
      "outputs": [
        {
          "output_type": "stream",
          "name": "stdout",
          "text": [
            "enter the temp in faahrenheit :41\n",
            "temperature in celsius : 5.0\n"
          ]
        }
      ]
    },
    {
      "cell_type": "code",
      "source": [
        "# Write a Python function to calculate the factorial of a number (a\n",
        "#nonnegative integer). The function accepts the number as an argument.\n",
        "#Sample input: 3 Sample output: 6"
      ],
      "metadata": {
        "id": "UQ7CQJEbfl-v"
      },
      "execution_count": 28,
      "outputs": []
    },
    {
      "cell_type": "code",
      "source": [
        "def factorial(a):\n",
        "  fact=1\n",
        "  for i in range(1,a+1):\n",
        "    fact=fact*i\n",
        "  return fact\n",
        "a=int(input(\"enter a number \"))\n",
        "print(\"factorial \",factorial(a))"
      ],
      "metadata": {
        "colab": {
          "base_uri": "https://localhost:8080/"
        },
        "id": "BYuewfF9gOKZ",
        "outputId": "929b4a7f-925e-4ab3-b61a-9ae064b14363"
      },
      "execution_count": 39,
      "outputs": [
        {
          "output_type": "stream",
          "name": "stdout",
          "text": [
            "enter a number 3\n",
            "factorial  6\n"
          ]
        }
      ]
    },
    {
      "cell_type": "code",
      "source": [
        "\n"
      ],
      "metadata": {
        "id": "xmN_LnAchwxw"
      },
      "execution_count": 40,
      "outputs": []
    },
    {
      "cell_type": "code",
      "source": [],
      "metadata": {
        "id": "5hrAb0iljNuO"
      },
      "execution_count": null,
      "outputs": []
    }
  ]
}