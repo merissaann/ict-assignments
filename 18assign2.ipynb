{
  "nbformat": 4,
  "nbformat_minor": 0,
  "metadata": {
    "colab": {
      "provenance": [],
      "authorship_tag": "ABX9TyOhjAMxTjnVijF0iFyGH1lX",
      "include_colab_link": true
    },
    "kernelspec": {
      "name": "python3",
      "display_name": "Python 3"
    },
    "language_info": {
      "name": "python"
    }
  },
  "cells": [
    {
      "cell_type": "markdown",
      "metadata": {
        "id": "view-in-github",
        "colab_type": "text"
      },
      "source": [
        "<a href=\"https://colab.research.google.com/github/merissaann/ict-assignments/blob/main/18assign2.ipynb\" target=\"_parent\"><img src=\"https://colab.research.google.com/assets/colab-badge.svg\" alt=\"Open In Colab\"/></a>"
      ]
    },
    {
      "cell_type": "code",
      "execution_count": 1,
      "metadata": {
        "id": "juUIY8qzOEDw"
      },
      "outputs": [],
      "source": [
        "# Given the string \"Hello, World!\", extract and print the substring \"Hello\""
      ]
    },
    {
      "cell_type": "code",
      "source": [
        "text = \"Hello, World!\"\n",
        "substring = text[0:5]\n",
        "print(substring)\n"
      ],
      "metadata": {
        "colab": {
          "base_uri": "https://localhost:8080/"
        },
        "id": "_blCTslXOabg",
        "outputId": "6af2f4d4-a2d6-4028-aae2-10e35fdc8516"
      },
      "execution_count": 2,
      "outputs": [
        {
          "output_type": "stream",
          "name": "stdout",
          "text": [
            "Hello\n"
          ]
        }
      ]
    },
    {
      "cell_type": "code",
      "source": [
        "#. Given the string \"Python is fun\", extract and print the substring \"is\"."
      ],
      "metadata": {
        "id": "fkUT2rcSOmwO"
      },
      "execution_count": 3,
      "outputs": []
    },
    {
      "cell_type": "code",
      "source": [
        "text=\"python is fun\"\n",
        "sub=text[7:9]\n",
        "print(sub)"
      ],
      "metadata": {
        "colab": {
          "base_uri": "https://localhost:8080/"
        },
        "id": "B4LLqfHCOv0q",
        "outputId": "cd2fbe61-537e-44dc-91fd-76bbb1ab3175"
      },
      "execution_count": 4,
      "outputs": [
        {
          "output_type": "stream",
          "name": "stdout",
          "text": [
            "is\n"
          ]
        }
      ]
    },
    {
      "cell_type": "code",
      "source": [
        "#  Given the string \"Programming\", extract and print the substring \"gram\" using slicing indices."
      ],
      "metadata": {
        "id": "KhRaQbx_O8VD"
      },
      "execution_count": 5,
      "outputs": []
    },
    {
      "cell_type": "code",
      "source": [
        "text = \"Programming\"\n",
        "substring = text[3:7]\n",
        "print(substring)\n"
      ],
      "metadata": {
        "colab": {
          "base_uri": "https://localhost:8080/"
        },
        "id": "0OhZGipGPJbK",
        "outputId": "9aa7d14c-08ec-46eb-cf5c-182131e60687"
      },
      "execution_count": 6,
      "outputs": [
        {
          "output_type": "stream",
          "name": "stdout",
          "text": [
            "gram\n"
          ]
        }
      ]
    },
    {
      "cell_type": "code",
      "source": [
        "#Given the string \"abcdefgh\", use slicing to print only the characters at even indices."
      ],
      "metadata": {
        "id": "35DUTAqDPPno"
      },
      "execution_count": 7,
      "outputs": []
    },
    {
      "cell_type": "code",
      "source": [
        "text = \"abcdefgh\"\n",
        "even_index_chars = text[::2]\n",
        "print(even_index_chars)\n"
      ],
      "metadata": {
        "colab": {
          "base_uri": "https://localhost:8080/"
        },
        "id": "9PK01rBAPYI3",
        "outputId": "c6114eb9-6e32-4c1d-9fe6-eaed592077ec"
      },
      "execution_count": 8,
      "outputs": [
        {
          "output_type": "stream",
          "name": "stdout",
          "text": [
            "aceg\n"
          ]
        }
      ]
    },
    {
      "cell_type": "code",
      "source": [
        " #Given the string \"abcdefg\", use negative indices to extract and print the substring \"efg\"."
      ],
      "metadata": {
        "id": "-3h6ZtTlPlZG"
      },
      "execution_count": 9,
      "outputs": []
    },
    {
      "cell_type": "code",
      "source": [
        "text = \"abcdefg\"\n",
        "substring = text[-3:]\n",
        "print(substring)\n"
      ],
      "metadata": {
        "colab": {
          "base_uri": "https://localhost:8080/"
        },
        "id": "yAclXmN6P8Yp",
        "outputId": "2f32cb5d-0e71-4505-f0ca-0c848e4ec00f"
      },
      "execution_count": 15,
      "outputs": [
        {
          "output_type": "stream",
          "name": "stdout",
          "text": [
            "efg\n"
          ]
        }
      ]
    },
    {
      "cell_type": "code",
      "source": [
        "# Given the string \"Data Science\", use negative indices to extract and print the last three characters."
      ],
      "metadata": {
        "id": "hhOM-KVgQBwb"
      },
      "execution_count": 16,
      "outputs": []
    },
    {
      "cell_type": "code",
      "source": [
        "text = \"Data Science\"\n",
        "substring = text[-3:]\n",
        "print(substring)"
      ],
      "metadata": {
        "colab": {
          "base_uri": "https://localhost:8080/"
        },
        "id": "XapYZWIuQeUO",
        "outputId": "c9ba84d9-7b44-49e1-b744-59fb54a60139"
      },
      "execution_count": 17,
      "outputs": [
        {
          "output_type": "stream",
          "name": "stdout",
          "text": [
            "nce\n"
          ]
        }
      ]
    },
    {
      "cell_type": "code",
      "source": [
        "#Given the string \"abcdefghij\", use slicing with a step to print every second character."
      ],
      "metadata": {
        "id": "chP6pP4fQnwW"
      },
      "execution_count": 18,
      "outputs": []
    },
    {
      "cell_type": "code",
      "source": [
        "text = \"abcdefghi\"\n",
        "substring = text[::2]\n",
        "print(substring)"
      ],
      "metadata": {
        "colab": {
          "base_uri": "https://localhost:8080/"
        },
        "id": "m_XGB1KdQw-y",
        "outputId": "0565618d-f0e9-4f15-cdaa-ed5a2b7510e9"
      },
      "execution_count": 19,
      "outputs": [
        {
          "output_type": "stream",
          "name": "stdout",
          "text": [
            "acegi\n"
          ]
        }
      ]
    },
    {
      "cell_type": "code",
      "source": [
        "#  Given the string \"1234567890\", use slicing with a step to print the odd digits."
      ],
      "metadata": {
        "id": "QHaXxWOUQ_hx"
      },
      "execution_count": 20,
      "outputs": []
    },
    {
      "cell_type": "code",
      "source": [
        "text = \"1234567890\"\n",
        "substring = text[::2]\n",
        "print(substring)"
      ],
      "metadata": {
        "colab": {
          "base_uri": "https://localhost:8080/"
        },
        "id": "yrGM7freRHKb",
        "outputId": "69bb7681-2693-4871-fa3d-e200718bc45d"
      },
      "execution_count": 21,
      "outputs": [
        {
          "output_type": "stream",
          "name": "stdout",
          "text": [
            "13579\n"
          ]
        }
      ]
    },
    {
      "cell_type": "code",
      "source": [],
      "metadata": {
        "id": "MRxyhOmERczR"
      },
      "execution_count": null,
      "outputs": []
    },
    {
      "cell_type": "code",
      "source": [
        "# Given the string \"Hello\", use slicing to print the string in reverse order."
      ],
      "metadata": {
        "id": "SgqOVM4cRR2m"
      },
      "execution_count": 22,
      "outputs": []
    },
    {
      "cell_type": "code",
      "source": [
        "text = \"Hello\"\n",
        "substring = text[::-1]\n",
        "print(substring)\n"
      ],
      "metadata": {
        "colab": {
          "base_uri": "https://localhost:8080/"
        },
        "id": "QhLGnDYcRelY",
        "outputId": "7648339c-7853-4180-956b-ef4f935e1aea"
      },
      "execution_count": 23,
      "outputs": [
        {
          "output_type": "stream",
          "name": "stdout",
          "text": [
            "olleH\n"
          ]
        }
      ]
    },
    {
      "cell_type": "code",
      "source": [
        "#Given the string \"abcdefghijk\", extract and print the substring \"acegik\" using slicing."
      ],
      "metadata": {
        "id": "CusH8KElRjaO"
      },
      "execution_count": 24,
      "outputs": []
    },
    {
      "cell_type": "code",
      "source": [
        "text = \"abcdefghijk\"\n",
        "substring = text[::2]\n",
        "print(substring)"
      ],
      "metadata": {
        "colab": {
          "base_uri": "https://localhost:8080/"
        },
        "id": "_1XqM2t4RtuS",
        "outputId": "c2e5e8bb-8f69-4dfb-a376-fb74309f2173"
      },
      "execution_count": 25,
      "outputs": [
        {
          "output_type": "stream",
          "name": "stdout",
          "text": [
            "acegik\n"
          ]
        }
      ]
    },
    {
      "cell_type": "code",
      "source": [
        "#Write a program to find sum of all elements in a list of integers"
      ],
      "metadata": {
        "id": "ZOlea0UkRzlw"
      },
      "execution_count": 26,
      "outputs": []
    },
    {
      "cell_type": "code",
      "source": [],
      "metadata": {
        "id": "VGrDNiRuVd-R"
      },
      "execution_count": 28,
      "outputs": []
    },
    {
      "cell_type": "code",
      "source": [
        "def sum_of_list(elements):\n",
        "    total = 0\n",
        "    for number in elements:\n",
        "        total += number\n",
        "    return total\n",
        "user_input = input(\"Enter a list of integers separated by spaces or commas: \").replace(',', ' ')\n",
        "numbers = [int(x) for x in user_input.split()]\n",
        "total_sum = sum_of_list(numbers)\n",
        "print(f\"The sum of all elements in the list is: {total_sum}\")\n"
      ],
      "metadata": {
        "colab": {
          "base_uri": "https://localhost:8080/"
        },
        "id": "TRAFCk64Y68i",
        "outputId": "f7b2f399-8adc-460c-d9a6-779a238ccf61"
      },
      "execution_count": 28,
      "outputs": [
        {
          "output_type": "stream",
          "name": "stdout",
          "text": [
            "Enter a list of integers separated by spaces or commas: 3,5,6,7,8\n",
            "The sum of all elements in the list is: 29\n"
          ]
        }
      ]
    },
    {
      "cell_type": "code",
      "source": [
        "#Input a sentence as a string.\n",
        "#a) Print its length\n",
        "#b) Print the first half of string"
      ],
      "metadata": {
        "id": "tEX0v0lYZWrd"
      },
      "execution_count": 29,
      "outputs": []
    },
    {
      "cell_type": "code",
      "source": [
        "sentence = input(\"Enter a sentence: \")\n",
        "length_of_sentence = len(sentence)\n",
        "print(f\"The length of the sentence is: {length_of_sentence}\")\n",
        "half_length = length_of_sentence // 2\n",
        "first_half = sentence[:half_length]\n",
        "print(f\"The first half of the sentence is: '{first_half}'\")\n"
      ],
      "metadata": {
        "colab": {
          "base_uri": "https://localhost:8080/"
        },
        "id": "WOEn2kcCZ0I7",
        "outputId": "f08f4737-d8b9-4f8a-de93-201d59635a56"
      },
      "execution_count": 30,
      "outputs": [
        {
          "output_type": "stream",
          "name": "stdout",
          "text": [
            "Enter a sentence: merissa\n",
            "The length of the sentence is: 7\n",
            "The first half of the sentence is: 'mer'\n"
          ]
        }
      ]
    },
    {
      "cell_type": "code",
      "source": [
        "#Write a program to enter a tuple of integers as (78,45,32,19,82,77,40,39). Change the third value in the tuple to 100"
      ],
      "metadata": {
        "id": "ptRo5qwkeZQs"
      },
      "execution_count": 31,
      "outputs": []
    },
    {
      "cell_type": "code",
      "source": [
        "numbers = (78, 45, 32, 19, 82, 77, 40, 39)\n",
        "numbers_list = list(numbers)\n",
        "numbers_list[2] = 100\n",
        "modified_numbers = tuple(numbers_list)\n",
        "print(f\"The modified tuple is: {modified_numbers}\")\n"
      ],
      "metadata": {
        "colab": {
          "base_uri": "https://localhost:8080/"
        },
        "id": "WNBQxznZe_oR",
        "outputId": "5880d542-c55f-46d5-d8ae-3e3f09692062"
      },
      "execution_count": 32,
      "outputs": [
        {
          "output_type": "stream",
          "name": "stdout",
          "text": [
            "The modified tuple is: (78, 45, 100, 19, 82, 77, 40, 39)\n"
          ]
        }
      ]
    },
    {
      "cell_type": "code",
      "source": [
        "#Consider a list listA=[19,32,10,55,31,32,94,29,10,65,77,40,40] (a)\n",
        "#Delete the first occurrence of 32\n",
        "#(b) Delete all occurrences of 40\n",
        "#(c) Delete the value at index=5\n",
        "#(d) Modify the value at index=9 as 300\n",
        "#(e) Add 200 at index=2\n",
        "#(f) 15.\n",
        "#Print the final list with its length, maximum value and sum of all elements"
      ],
      "metadata": {
        "id": "_De5LjT3fTxR"
      },
      "execution_count": 33,
      "outputs": []
    },
    {
      "cell_type": "code",
      "source": [
        "listA = [19, 32, 10, 55, 31, 32, 94, 29, 10, 65, 77, 40, 40]\n",
        "listA.remove(32)\n",
        "listA = [x for x in listA if x != 40]\n",
        "if len(listA) > 5:\n",
        "    del listA[5]\n",
        "if len(listA) > 9:\n",
        "    listA[9] = 300\n",
        "else:\n",
        "    print(\"Index 9 does not exist in the current list.\")\n",
        "listA.insert(2, 200)\n",
        "print(\"Final list:\", listA)\n",
        "print(\"Length of the list:\", len(listA))\n",
        "print(\"Maximum value in the list:\", max(listA))\n",
        "print(\"Sum of all elements in the list:\", sum(listA))\n",
        "\n"
      ],
      "metadata": {
        "colab": {
          "base_uri": "https://localhost:8080/"
        },
        "id": "oWNL9c3rf45_",
        "outputId": "6acf4fcb-1bf7-4f81-bbbb-5cf46dbd21b7"
      },
      "execution_count": 35,
      "outputs": [
        {
          "output_type": "stream",
          "name": "stdout",
          "text": [
            "Index 9 does not exist in the current list.\n",
            "Final list: [19, 10, 200, 55, 31, 32, 29, 10, 65, 77]\n",
            "Length of the list: 10\n",
            "Maximum value in the list: 200\n",
            "Sum of all elements in the list: 528\n"
          ]
        }
      ]
    },
    {
      "cell_type": "code",
      "source": [
        "#Consider a string ”The day has been long”.\n",
        "#(a) Delete the value at index =4\n",
        "#(b) Print the string 4 times in a single line with space between each repetition\n",
        "#(c) (f) Print the string 3 times in a new line each time\n",
        "#(d) Modify the string at index 7 as ’A’\n",
        "#(e) Print the string from index 4 to 15\n",
        "#Print the final string with its length"
      ],
      "metadata": {
        "id": "kIs1nC3bitjE"
      },
      "execution_count": 36,
      "outputs": []
    },
    {
      "cell_type": "code",
      "source": [
        "string = \"The day has been long\"\n",
        "string = string[:4] + string[5:]\n",
        "print((string + \" \") * 4)\n",
        "print((string + \"\\n\") * 3)\n",
        "string = string[:7] + 'A' + string[8:]\n",
        "print(string[4:16])\n",
        "print(\"Final string:\", string)\n",
        "print(\"Length of the final string:\", len(string))\n"
      ],
      "metadata": {
        "colab": {
          "base_uri": "https://localhost:8080/"
        },
        "id": "yanZZj_vkJdB",
        "outputId": "35a90884-512c-43b6-8ee4-1c40d30537f2"
      },
      "execution_count": 37,
      "outputs": [
        {
          "output_type": "stream",
          "name": "stdout",
          "text": [
            "The ay has been long The ay has been long The ay has been long The ay has been long \n",
            "The ay has been long\n",
            "The ay has been long\n",
            "The ay has been long\n",
            "\n",
            "ay Aas been \n",
            "Final string: The ay Aas been long\n",
            "Length of the final string: 20\n"
          ]
        }
      ]
    },
    {
      "cell_type": "code",
      "source": [],
      "metadata": {
        "id": "QLwaF9WKkYI1"
      },
      "execution_count": null,
      "outputs": []
    }
  ]
}