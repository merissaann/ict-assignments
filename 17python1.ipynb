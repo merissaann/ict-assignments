{
  "nbformat": 4,
  "nbformat_minor": 0,
  "metadata": {
    "colab": {
      "provenance": [],
      "authorship_tag": "ABX9TyOcF5M44yMvWN4maPf6nXQa",
      "include_colab_link": true
    },
    "kernelspec": {
      "name": "python3",
      "display_name": "Python 3"
    },
    "language_info": {
      "name": "python"
    }
  },
  "cells": [
    {
      "cell_type": "markdown",
      "metadata": {
        "id": "view-in-github",
        "colab_type": "text"
      },
      "source": [
        "<a href=\"https://colab.research.google.com/github/merissaann/ict-assignments/blob/main/17python1.ipynb\" target=\"_parent\"><img src=\"https://colab.research.google.com/assets/colab-badge.svg\" alt=\"Open In Colab\"/></a>"
      ]
    },
    {
      "cell_type": "code",
      "execution_count": 1,
      "metadata": {
        "id": "6dCcRTndbGWe"
      },
      "outputs": [],
      "source": [
        "# Write a Python program which accepts the radius of a circle from the user and compute the area.\n",
        "#Sample input: Enter the radius: 3\n",
        "#Sample output: Area of Circle is 28.59999999999"
      ]
    },
    {
      "cell_type": "code",
      "source": [
        "import math\n",
        "r= float(input(\"print the area of the circle : \"))\n",
        "area = (r*r)*math.pi\n",
        "print(\"area of the circle is : \",area)"
      ],
      "metadata": {
        "colab": {
          "base_uri": "https://localhost:8080/"
        },
        "id": "EV2o7sztg87n",
        "outputId": "3648216b-6c43-4540-bf10-c337fcc21f25"
      },
      "execution_count": 3,
      "outputs": [
        {
          "output_type": "stream",
          "name": "stdout",
          "text": [
            "print the area of the circle : 3\n",
            "area of the circle is :  28.274333882308138\n"
          ]
        }
      ]
    },
    {
      "cell_type": "code",
      "source": [
        "\n",
        "#Write a Python Program to accept the details of a student like name, roll\n",
        "#number and mark and display it.\n",
        "#Sample input:\n",
        "#Enter the name: Anisha\n",
        "#Enter the roll number: 21\n",
        "#Enter the mark: 78\n",
        "#Sample output:  Name: Anisha\n",
        "#Roll No: 21\n",
        "#Mark: 78"
      ],
      "metadata": {
        "id": "moFORpByhSft"
      },
      "execution_count": 8,
      "outputs": []
    },
    {
      "cell_type": "code",
      "source": [
        "name =input(\"enter the name :\")\n",
        "roll= int(input(\"enter the roll number :\"))\n",
        "marks= int(input(\"enter the marks: \"))\n",
        "print(\"\\n name :\",name,\"\\n Roll number :\",roll,\"\\n mark :\",marks)"
      ],
      "metadata": {
        "colab": {
          "base_uri": "https://localhost:8080/"
        },
        "id": "ys-a7vOOiOXO",
        "outputId": "b144ea26-f3be-4c5c-8e54-37bde0988f75"
      },
      "execution_count": 7,
      "outputs": [
        {
          "output_type": "stream",
          "name": "stdout",
          "text": [
            "enter the name :meru\n",
            "enter the roll number :42\n",
            "enter the marks: 50\n",
            "\n",
            " name : meru \n",
            " Roll number : 42 \n",
            " mark : 50\n"
          ]
        }
      ]
    },
    {
      "cell_type": "code",
      "source": [
        "# Write a Python program to get the largest number from a list.\n",
        "#Sample input: 12, 3, 47, 10\n",
        "#Sample output: 47 is the largest number."
      ],
      "metadata": {
        "id": "MRED4nnIjCTi"
      },
      "execution_count": 9,
      "outputs": []
    },
    {
      "cell_type": "code",
      "source": [
        "lists=[12,3,47,10]\n",
        "max_val=0\n",
        "for i in range( len(lists)):\n",
        "  if max_val < lists[i]:\n",
        "    max_val=lists[i]\n",
        "print(max_val,\" is the largest\")"
      ],
      "metadata": {
        "colab": {
          "base_uri": "https://localhost:8080/"
        },
        "id": "mUANvCcRjl66",
        "outputId": "dc13e402-5193-47cc-9cf1-c8cd7f14ec1a"
      },
      "execution_count": 19,
      "outputs": [
        {
          "output_type": "stream",
          "name": "stdout",
          "text": [
            "47  is the largest\n"
          ]
        }
      ]
    },
    {
      "cell_type": "code",
      "source": [
        "\n",
        " #Given a range of first 10 numbers, write a Python program to iterate from start number to the end number and print the sum of the current number and previous number.\n",
        "#Sample input: 1….10\n",
        "#Sample output: Current Number 1 Previous Number 0 Sum: 1\n",
        "#Current Number 2 Previous Number 1 Sum: 3 Current Number 3 Previous\n",
        "#Number 2 Sum: 5… Current Number 10 Previous Number 9 Sum: 19"
      ],
      "metadata": {
        "id": "Ic0IAPWJkLya"
      },
      "execution_count": 20,
      "outputs": []
    },
    {
      "cell_type": "code",
      "source": [
        "sum =0\n",
        "for i in range(1,11):\n",
        "  sum = (i-1) + i\n",
        "  print(\"current number \",i,\"previous number \",i-1,\"sum : \",sum,\"\\n\")"
      ],
      "metadata": {
        "colab": {
          "base_uri": "https://localhost:8080/"
        },
        "id": "jRGmmR6dk8N7",
        "outputId": "94a13a3d-becc-4f7a-f193-9c55abad0ac2"
      },
      "execution_count": 22,
      "outputs": [
        {
          "output_type": "stream",
          "name": "stdout",
          "text": [
            "current number  1 previous number  0 sum :  1 \n",
            "\n",
            "current number  2 previous number  1 sum :  3 \n",
            "\n",
            "current number  3 previous number  2 sum :  5 \n",
            "\n",
            "current number  4 previous number  3 sum :  7 \n",
            "\n",
            "current number  5 previous number  4 sum :  9 \n",
            "\n",
            "current number  6 previous number  5 sum :  11 \n",
            "\n",
            "current number  7 previous number  6 sum :  13 \n",
            "\n",
            "current number  8 previous number  7 sum :  15 \n",
            "\n",
            "current number  9 previous number  8 sum :  17 \n",
            "\n",
            "current number  10 previous number  9 sum :  19 \n",
            "\n"
          ]
        }
      ]
    },
    {
      "cell_type": "code",
      "source": [
        "#Write a Python program to print only those numbers which are divisible of 5.\n",
        "#Sample input: 10, 20,33,46,55    Sample output: 10, 20, 55"
      ],
      "metadata": {
        "id": "TmTshKwJ0BT1"
      },
      "execution_count": 23,
      "outputs": []
    },
    {
      "cell_type": "code",
      "source": [
        "a=[10,20,33,46,55]\n",
        "b=[]\n",
        "for i in range(len(a)):\n",
        "  if a[i]%5==0:\n",
        "    b.append(a[i])\n",
        "print(b)"
      ],
      "metadata": {
        "colab": {
          "base_uri": "https://localhost:8080/"
        },
        "id": "iPQi656N0XTU",
        "outputId": "8c829569-0747-444c-d82b-725c93f846a2"
      },
      "execution_count": 26,
      "outputs": [
        {
          "output_type": "stream",
          "name": "stdout",
          "text": [
            "[10, 20, 55]\n"
          ]
        }
      ]
    },
    {
      "cell_type": "code",
      "source": [
        "numbers_str = input(\"Enter numbers separated by commas: \")\n",
        "numbers = [int(num) for num in numbers_str.split(',')]\n",
        "divisible_by_5 = []\n",
        "for num in numbers:\n",
        "    if num % 5 == 0:\n",
        "        divisible_by_5.append(num)\n",
        "print(\"Numbers divisible by 5 are:\", ', '.join(map(str, divisible_by_5)))\n"
      ],
      "metadata": {
        "colab": {
          "base_uri": "https://localhost:8080/"
        },
        "id": "D1rGO66v1TPE",
        "outputId": "8b1d2660-2555-414b-efff-75898cfdb41f"
      },
      "execution_count": 33,
      "outputs": [
        {
          "output_type": "stream",
          "name": "stdout",
          "text": [
            "Enter numbers separated by commas: 23,34,55,66,80,90\n",
            "Numbers divisible by 5 are: 55, 80, 90\n"
          ]
        }
      ]
    },
    {
      "cell_type": "code",
      "source": [
        "#Write a Python program to check whether a number is prime or not.\n",
        "#Sample input: Enter the number: 3\n",
        "#Sample output: 3 is a prime number."
      ],
      "metadata": {
        "id": "zmYVGXNh3F-W"
      },
      "execution_count": 34,
      "outputs": []
    },
    {
      "cell_type": "code",
      "source": [
        "n = int(input(\"enter a number :\"))\n",
        "if n<=1:\n",
        "  print(\"not a prime number\")\n",
        "elif n==2:\n",
        "    print(\"prime number\")\n",
        "else:\n",
        "    prime = True\n",
        "    for i in range(2,int(n**0.5)+1):\n",
        "         if n%i==0:\n",
        "            prime=False\n",
        "            break\n",
        "\n",
        "    if prime:\n",
        "        print(\"is prime\")\n",
        "    else:\n",
        "        print(\"not prime\")\n",
        ""
      ],
      "metadata": {
        "colab": {
          "base_uri": "https://localhost:8080/"
        },
        "id": "6QLVU7y73RRN",
        "outputId": "b70c7a12-074a-442e-d119-beb2723ed8b2"
      },
      "execution_count": 80,
      "outputs": [
        {
          "output_type": "stream",
          "name": "stdout",
          "text": [
            "enter a number :7\n",
            "is prime\n"
          ]
        }
      ]
    },
    {
      "cell_type": "code",
      "source": [
        "#Write a Python program to reverse a list using for loop.\n",
        "#Sample input: 10,40,30,70\n",
        "#Sample output: 70,30,40,10"
      ],
      "metadata": {
        "id": "lW7n30l2FzHW"
      },
      "execution_count": 81,
      "outputs": []
    },
    {
      "cell_type": "code",
      "source": [
        "lists=[10,20,30,40]\n",
        "b=lists[-1::-1]\n",
        "print(b)"
      ],
      "metadata": {
        "colab": {
          "base_uri": "https://localhost:8080/"
        },
        "id": "vbMOr_6lHnFA",
        "outputId": "9727728b-096b-456c-f18a-1f85ff62eaaf"
      },
      "execution_count": 84,
      "outputs": [
        {
          "output_type": "stream",
          "name": "stdout",
          "text": [
            "[40, 30, 20, 10]\n"
          ]
        }
      ]
    },
    {
      "cell_type": "code",
      "source": [
        "#Write a Python program to print the following pattern.\n",
        "#*\n",
        "#**\n",
        "#***\n",
        "#****"
      ],
      "metadata": {
        "id": "6QltF1oTN_LA"
      },
      "execution_count": 85,
      "outputs": []
    },
    {
      "cell_type": "code",
      "source": [
        "for i in range(1,5):\n",
        "  print(i*'*')"
      ],
      "metadata": {
        "colab": {
          "base_uri": "https://localhost:8080/"
        },
        "id": "3N9dd7ZRQdJU",
        "outputId": "01bda78b-3217-41cf-9962-f32c3fe6826d"
      },
      "execution_count": 86,
      "outputs": [
        {
          "output_type": "stream",
          "name": "stdout",
          "text": [
            "*\n",
            "**\n",
            "***\n",
            "****\n"
          ]
        }
      ]
    },
    {
      "cell_type": "code",
      "source": [
        "#Write a Python program to find the maximum of three numbers\n",
        "#Sample input: 34,12,7\n",
        "#Sample output: 34"
      ],
      "metadata": {
        "id": "Stbo0sSxQ3vf"
      },
      "execution_count": 87,
      "outputs": []
    },
    {
      "cell_type": "code",
      "source": [
        "\n"
      ],
      "metadata": {
        "id": "9-aM0SqgRCqs"
      },
      "execution_count": 2,
      "outputs": []
    },
    {
      "cell_type": "code",
      "source": [
        "numbers = input(\"Enter three numbers separated by spaces: \").split()\n",
        "num1, num2, num3 = map(int, numbers)\n",
        "max_num = max(num1, num2, num3)\n",
        "print(\"The maximum number is:\", max_num)\n"
      ],
      "metadata": {
        "colab": {
          "base_uri": "https://localhost:8080/"
        },
        "id": "InMT0r56RpTq",
        "outputId": "2a691328-b1bf-4f75-d01e-35165d3d0c25"
      },
      "execution_count": 2,
      "outputs": [
        {
          "output_type": "stream",
          "name": "stdout",
          "text": [
            "Enter three numbers separated by spaces: 34 54 33\n",
            "The maximum number is: 54\n"
          ]
        }
      ]
    },
    {
      "cell_type": "code",
      "source": [
        "Write a Python program to construct the following pattern, using a\n",
        "nested for loop.\n",
        "*\n",
        "**\n",
        "***\n",
        "****\n",
        "*****\n",
        "****\n",
        "***\n",
        "**\n",
        "*"
      ],
      "metadata": {
        "id": "K5xoHZIhTJy1"
      },
      "execution_count": null,
      "outputs": []
    },
    {
      "cell_type": "code",
      "source": [
        "n = 5\n",
        "for i in range(1, n + 1):\n",
        "    print('*' * i)\n",
        "for i in range(n - 1, 0, -1):\n",
        "    print('*' * i)\n"
      ],
      "metadata": {
        "colab": {
          "base_uri": "https://localhost:8080/"
        },
        "id": "nZOARrU9Ttqi",
        "outputId": "a4e999f0-76af-4d9e-de07-ccd131514161"
      },
      "execution_count": 3,
      "outputs": [
        {
          "output_type": "stream",
          "name": "stdout",
          "text": [
            "*\n",
            "**\n",
            "***\n",
            "****\n",
            "*****\n",
            "****\n",
            "***\n",
            "**\n",
            "*\n"
          ]
        }
      ]
    },
    {
      "cell_type": "code",
      "source": [],
      "metadata": {
        "id": "1uikgN0NT4hM"
      },
      "execution_count": null,
      "outputs": []
    }
  ]
}