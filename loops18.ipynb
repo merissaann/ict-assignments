{
  "nbformat": 4,
  "nbformat_minor": 0,
  "metadata": {
    "colab": {
      "provenance": [],
      "authorship_tag": "ABX9TyOoPqQIt6Ob5uJi4/Rv09J/",
      "include_colab_link": true
    },
    "kernelspec": {
      "name": "python3",
      "display_name": "Python 3"
    },
    "language_info": {
      "name": "python"
    }
  },
  "cells": [
    {
      "cell_type": "markdown",
      "metadata": {
        "id": "view-in-github",
        "colab_type": "text"
      },
      "source": [
        "<a href=\"https://colab.research.google.com/github/merissaann/ict-assignments/blob/main/loops18.ipynb\" target=\"_parent\"><img src=\"https://colab.research.google.com/assets/colab-badge.svg\" alt=\"Open In Colab\"/></a>"
      ]
    },
    {
      "cell_type": "code",
      "execution_count": null,
      "metadata": {
        "id": "fPakSuGdk1hb"
      },
      "outputs": [],
      "source": [
        "#Take input of age of 3 people by user and determine oldest and youngest among them."
      ]
    },
    {
      "cell_type": "code",
      "source": [
        "age1 = int(input(\"Enter the age of the first person: \"))\n",
        "age2 = int(input(\"Enter the age of the second person: \"))\n",
        "age3 = int(input(\"Enter the age of the third person: \"))\n",
        "oldest = max(age1, age2, age3)\n",
        "youngest = min(age1, age2, age3)\n",
        "print(f\"The oldest person is {oldest} years old.\")\n",
        "print(f\"The youngest person is {youngest} years old.\")\n"
      ],
      "metadata": {
        "id": "Hpw4qg--k_FX",
        "colab": {
          "base_uri": "https://localhost:8080/"
        },
        "outputId": "b2f523bc-b4f3-4ad2-aee3-91feca6b90ab"
      },
      "execution_count": 4,
      "outputs": [
        {
          "output_type": "stream",
          "name": "stdout",
          "text": [
            "Enter the age of the first person: 45\n",
            "Enter the age of the second person: 65\n",
            "Enter the age of the third person: 34\n",
            "The oldest person is 65 years old.\n",
            "The youngest person is 34 years old.\n"
          ]
        }
      ]
    },
    {
      "cell_type": "code",
      "source": [
        "#Write a program that asks the user for their exam score and\n",
        "#calculates their grade based on the following conditions:\n",
        "#a. A score of 90 or above is an A.\n",
        "#b. A score between 80 and 89 is a B.\n",
        "#c. A score between 70 and 79 is a C.\n",
        "#d. A score below 70 is an F."
      ],
      "metadata": {
        "id": "ZKAndLqVa2mG"
      },
      "execution_count": 5,
      "outputs": []
    },
    {
      "cell_type": "code",
      "source": [
        "n=int(input(\"enter the score out of 100=\"))\n",
        "if n>=90:\n",
        "  print(\"grade =A\")\n",
        "elif n>=80 :\n",
        "  print(\"grade =B\")\n",
        "elif n>=70 :\n",
        "  print(\"grade =C\")\n",
        "else:\n",
        "  print(\"grade =F\")"
      ],
      "metadata": {
        "colab": {
          "base_uri": "https://localhost:8080/"
        },
        "id": "dzCE0poplC7j",
        "outputId": "b73e9ae0-9227-4423-b89c-9e80a1164f85"
      },
      "execution_count": 11,
      "outputs": [
        {
          "output_type": "stream",
          "name": "stdout",
          "text": [
            "enter the score out of 100=90\n",
            "grade =A\n"
          ]
        }
      ]
    },
    {
      "cell_type": "code",
      "source": [
        "#Create a program that asks the user for a list of grocery items they need to buy and organizes the list alphabetically."
      ],
      "metadata": {
        "id": "GuKk2Fo8mF0r"
      },
      "execution_count": 12,
      "outputs": []
    },
    {
      "cell_type": "code",
      "source": [
        "grocery_items = input(\"Enter the grocery items you need to buy, separated by commas: \").split(',')\n",
        "grocery_items.sort()\n",
        "print(\"\\nYour grocery list, organized alphabetically:\")\n",
        "for item in grocery_items:\n",
        "    print(item)\n",
        "\n"
      ],
      "metadata": {
        "colab": {
          "base_uri": "https://localhost:8080/"
        },
        "id": "oFBLopAkyERR",
        "outputId": "162793b3-c855-403f-a6f7-82e8934185e7"
      },
      "execution_count": 18,
      "outputs": [
        {
          "output_type": "stream",
          "name": "stdout",
          "text": [
            "Enter the grocery items you need to buy, separated by commas: milk,ball,orange,apple\n",
            "\n",
            "Your grocery list, organized alphabetically:\n",
            "apple\n",
            "ball\n",
            "milk\n",
            "orange\n"
          ]
        }
      ]
    },
    {
      "cell_type": "code",
      "source": [
        " #Write a program that asks the user for an email address and checks if it is valid (contains an \"@\" symbol and a valid domain)."
      ],
      "metadata": {
        "id": "nsnQ___gzCZZ"
      },
      "execution_count": 19,
      "outputs": []
    },
    {
      "cell_type": "code",
      "source": [
        "import re\n",
        "def is_valid_email(email):\n",
        "    pattern = r'^[a-zA-Z0-9_.+-]+@[a-zA-Z0-9-]+\\.[a-zA-Z0-9-.]+$'\n",
        "    return re.match(pattern, email)\n",
        "email = input(\"Enter your email address: \")\n",
        "if is_valid_email(email):\n",
        "    print(\"The email address is valid.\")\n",
        "'else:\n",
        "    print(\"The email address is invalid.\")\n"
      ],
      "metadata": {
        "colab": {
          "base_uri": "https://localhost:8080/"
        },
        "id": "LM7BnaDT0aFA",
        "outputId": "88fe2f50-4c96-4821-c697-37412c925d3d"
      },
      "execution_count": 20,
      "outputs": [
        {
          "output_type": "stream",
          "name": "stdout",
          "text": [
            "Enter your email address: merussa@123.gmail.com\n",
            "The email address is valid.\n"
          ]
        }
      ]
    },
    {
      "cell_type": "code",
      "source": [
        "#Create a program that asks the user for the number of days they\n",
        "#have delayed returning a library book. If the delay is less than or\n",
        "#equal to 7 days, there is no fine. If the delay is between 8 and 30\n",
        "#days, apply a fine of 2 rupees per day. If the delay is more than\n",
        "#30 days, apply a fine of 5 rupees per day. Print the total fine\n",
        "#amount."
      ],
      "metadata": {
        "id": "GVoFi05w4we_"
      },
      "execution_count": 21,
      "outputs": []
    },
    {
      "cell_type": "code",
      "source": [
        "n = int(input(\"enter the number of days delayed: \"))\n",
        "if n<=7:\n",
        "  print(\"no fine\")\n",
        "elif n<30:\n",
        "  print(\"finr amount :\",2*n)\n",
        "else:\n",
        "  print(\"fine =\",n*5)\n"
      ],
      "metadata": {
        "colab": {
          "base_uri": "https://localhost:8080/"
        },
        "id": "gEaq_aeu5IuN",
        "outputId": "99d81774-151b-4b2b-b236-f447112b49df"
      },
      "execution_count": 24,
      "outputs": [
        {
          "output_type": "stream",
          "name": "stdout",
          "text": [
            "enter the number of days delayed: 115\n",
            "fine = 575\n"
          ]
        }
      ]
    },
    {
      "cell_type": "code",
      "source": [
        "#Write a program that checks if a given character is a vowel. Use the in operator to check if the character is present in a string of vowels (\"aeiou\")."
      ],
      "metadata": {
        "id": "Vp1UizSk7pAr"
      },
      "execution_count": 25,
      "outputs": []
    },
    {
      "cell_type": "code",
      "source": [
        "character = input(\"Enter a character: \").lower()\n",
        "if character in \"aeiou\":\n",
        "    print(f\"'{character}' is a vowel.\")\n",
        "else:\n",
        "    print(f\"'{character}' is not a vowel.\")\n"
      ],
      "metadata": {
        "colab": {
          "base_uri": "https://localhost:8080/"
        },
        "id": "GUSPwYT28Afa",
        "outputId": "58b110d6-8ff3-4b28-e509-3062029ffd3d"
      },
      "execution_count": 26,
      "outputs": [
        {
          "output_type": "stream",
          "name": "stdout",
          "text": [
            "Enter a character: f\n",
            "'f' is not a vowel.\n"
          ]
        }
      ]
    },
    {
      "cell_type": "code",
      "source": [
        "#Implement a program that calculates the factorial of a number using a loop."
      ],
      "metadata": {
        "id": "_TacJ1q8EKVb"
      },
      "execution_count": 27,
      "outputs": []
    },
    {
      "cell_type": "code",
      "source": [
        "number = int(input(\"Enter a number to calculate its factorial: \"))\n",
        "fact= 1\n",
        "for i in range(1, number + 1):\n",
        "    fact *= i\n",
        "print(f\"The factorial of {number} is {fact}.\")\n"
      ],
      "metadata": {
        "colab": {
          "base_uri": "https://localhost:8080/"
        },
        "id": "_vmOM544EaG4",
        "outputId": "334244e3-d4aa-46cd-d778-05248733352c"
      },
      "execution_count": 29,
      "outputs": [
        {
          "output_type": "stream",
          "name": "stdout",
          "text": [
            "Enter a number to calculate its factorial: 5\n",
            "The factorial of 5 is 120.\n"
          ]
        }
      ]
    },
    {
      "cell_type": "code",
      "source": [
        "# Generate the Fibonacci sequence (0, 1, 1, 2, 3, ...) up to a certain limit using a loop."
      ],
      "metadata": {
        "id": "TXb9UhGvEo_c"
      },
      "execution_count": 30,
      "outputs": []
    },
    {
      "cell_type": "code",
      "source": [
        "limit = int(input(\"Enter the limit for the Fibonacci sequence: \"))\n",
        "a =0\n",
        "sum=0\n",
        "b=1\n",
        "print(\"Fibonacci sequence up to\", limit, \":\")\n",
        "for i in range(0,limit):\n",
        "    print(sum,end=\" \")\n",
        "    a= b\n",
        "    b=sum\n",
        "    sum=a+b\n",
        "\n"
      ],
      "metadata": {
        "colab": {
          "base_uri": "https://localhost:8080/"
        },
        "id": "HUwPHBLnE1Gw",
        "outputId": "ca41c0c6-4278-472c-cf61-d3abf4e1ffff"
      },
      "execution_count": 35,
      "outputs": [
        {
          "output_type": "stream",
          "name": "stdout",
          "text": [
            "Enter the limit for the Fibonacci sequence: 7\n",
            "Fibonacci sequence up to 7 :\n",
            "0 1 1 2 3 5 8 "
          ]
        }
      ]
    },
    {
      "cell_type": "code",
      "source": [
        "#Create a number guessing game where the computer generates a\n",
        "#random number and the user has to guess it within a certain\n",
        "#number of attempts using a loop."
      ],
      "metadata": {
        "id": "oI81Eb3jG0Fw"
      },
      "execution_count": 36,
      "outputs": []
    },
    {
      "cell_type": "code",
      "source": [
        "import random\n",
        "random_number = random.randint(1, 100)\n",
        "max_attempts = 5\n",
        "print(\"Guess the number between 1 and 100.\")\n",
        "print(f\"You have {max_attempts} attempts to guess it.\")\n",
        "for attempt in range(1, max_attempts + 1):\n",
        "    guess = int(input(f\"Attempt {attempt}: Enter your guess: \"))\n",
        "    if guess == random_number:\n",
        "        print(\"Congratulations! You've guessed the number correctly!\")\n",
        "        break\n",
        "    elif guess < random_number:\n",
        "        print(\"Too low! Try again.\")\n",
        "    else:\n",
        "        print(\"Too high! Try again.\")\n",
        "    if attempt == max_attempts:\n",
        "        print(f\"Sorry, you've used all {max_attempts} attempts. The correct number was {random_number}.\")\n",
        "\n"
      ],
      "metadata": {
        "colab": {
          "base_uri": "https://localhost:8080/"
        },
        "id": "EAYS6nSFJRKW",
        "outputId": "5afd76de-4ece-412e-a98c-03846262f286"
      },
      "execution_count": 37,
      "outputs": [
        {
          "output_type": "stream",
          "name": "stdout",
          "text": [
            "Guess the number between 1 and 100.\n",
            "You have 5 attempts to guess it.\n",
            "Attempt 1: Enter your guess: 5\n",
            "Too low! Try again.\n",
            "Attempt 2: Enter your guess: 50\n",
            "Too high! Try again.\n",
            "Attempt 3: Enter your guess: 25\n",
            "Too low! Try again.\n",
            "Attempt 4: Enter your guess: 36\n",
            "Too low! Try again.\n",
            "Attempt 5: Enter your guess: 45\n",
            "Too high! Try again.\n",
            "Sorry, you've used all 5 attempts. The correct number was 43.\n"
          ]
        }
      ]
    },
    {
      "cell_type": "code",
      "source": [
        "#Write a menu driven calculator with following menu:\n",
        "#a. Addition\n",
        "#b. Subtraction\n",
        "#c. Division\n",
        "#d. Multiplication\n",
        "#e. Exit"
      ],
      "metadata": {
        "id": "Qb34acuwKkKA"
      },
      "execution_count": 38,
      "outputs": []
    },
    {
      "cell_type": "code",
      "source": [
        "while True:\n",
        " print(\"calculator\\n\\n 1.add\\n 2.sub\\n 3.mul\\n 4.divide\\n5.exit\\n\")\n",
        " ch=int(input(\"enter your choise \"))\n",
        " print(\"enter the numbers \")\n",
        " a = int(input(\"enter a =\"))\n",
        " b = int(input(\"enter b =\"))\n",
        " print(\"\\n\")\n",
        "\n",
        " if ch==1:\n",
        "     print(\"sum =\",a+b)\n",
        " elif ch==2:\n",
        "     print(\"difference =\", a-b)\n",
        " elif ch==3:\n",
        "     print(\"product =\",a*b)\n",
        " elif ch==4:\n",
        "     print(\"divide =\",a/b)\n",
        " elif ch==5:\n",
        "     print(\"exiting\")\n",
        "     break\n",
        " else:\n",
        "     print(\"not applicable\")"
      ],
      "metadata": {
        "colab": {
          "base_uri": "https://localhost:8080/"
        },
        "id": "tUHqYvOyK5DC",
        "outputId": "464861c3-0d7b-426d-d57b-849a202e688a"
      },
      "execution_count": 43,
      "outputs": [
        {
          "output_type": "stream",
          "name": "stdout",
          "text": [
            "calculator\n",
            "\n",
            " 1.add\n",
            " 2.sub\n",
            " 3.mul\n",
            " 4.divide\n",
            "5.exit\n",
            "\n",
            "enter your choise 4\n",
            "enter the numbers \n",
            "enter a =6\n",
            "enter b =3\n",
            "\n",
            "\n",
            "divide = 2.0\n",
            "calculator\n",
            "\n",
            " 1.add\n",
            " 2.sub\n",
            " 3.mul\n",
            " 4.divide\n",
            "5.exit\n",
            "\n",
            "enter your choise 5\n",
            "enter the numbers \n",
            "enter a =3\n",
            "enter b =4\n",
            "\n",
            "\n",
            "exiting\n"
          ]
        }
      ]
    },
    {
      "cell_type": "code",
      "source": [],
      "metadata": {
        "id": "kx-Ma2ImLt1P"
      },
      "execution_count": null,
      "outputs": []
    }
  ]
}