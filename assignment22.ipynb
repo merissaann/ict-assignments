{
  "nbformat": 4,
  "nbformat_minor": 0,
  "metadata": {
    "colab": {
      "provenance": [],
      "authorship_tag": "ABX9TyMh/XDYKD498zTrP3gkpg0k",
      "include_colab_link": true
    },
    "kernelspec": {
      "name": "python3",
      "display_name": "Python 3"
    },
    "language_info": {
      "name": "python"
    }
  },
  "cells": [
    {
      "cell_type": "markdown",
      "metadata": {
        "id": "view-in-github",
        "colab_type": "text"
      },
      "source": [
        "<a href=\"https://colab.research.google.com/github/merissaann/ict-assignments/blob/main/assignment22.ipynb\" target=\"_parent\"><img src=\"https://colab.research.google.com/assets/colab-badge.svg\" alt=\"Open In Colab\"/></a>"
      ]
    },
    {
      "cell_type": "code",
      "execution_count": 5,
      "metadata": {
        "id": "T5s0VkL0c7lz"
      },
      "outputs": [],
      "source": [
        "import pandas as pd\n",
        "\n",
        "df=pd.read_csv(\"/content/summer_movies.csv\")"
      ]
    },
    {
      "cell_type": "code",
      "source": [
        " #3. Perform Initial Exploration:\n",
        " #○ Loadthe dataset into a pandas DataFrame.\n",
        " #○ Display the first few rows of the DataFrame to understand its structure.\n",
        " #○ Print the summary statistics of the dataset"
      ],
      "metadata": {
        "id": "om7bv9IihVDB"
      },
      "execution_count": null,
      "outputs": []
    },
    {
      "cell_type": "code",
      "source": [
        "df.head()"
      ],
      "metadata": {
        "colab": {
          "base_uri": "https://localhost:8080/",
          "height": 313
        },
        "id": "4QkW8zAlfabh",
        "outputId": "69f7a2c7-38e9-4ea7-d261-25c2bed19504"
      },
      "execution_count": 6,
      "outputs": [
        {
          "output_type": "execute_result",
          "data": {
            "text/plain": [
              "      tconst title_type                    primary_title  \\\n",
              "0  tt0011462      movie                Midsummer Madness   \n",
              "1  tt0026714      movie        A Midsummer Night's Dream   \n",
              "2  tt0033864      movie  The Teachers on Summer Vacation   \n",
              "3  tt0037325      movie                     Summer Storm   \n",
              "4  tt0038406      movie                Centennial Summer   \n",
              "\n",
              "              original_title    year  runtime_minutes                  genres  \\\n",
              "0          Midsummer Madness  1920.0             60.0                   Drama   \n",
              "1  A Midsummer Night's Dream  1935.0            133.0  Comedy,Fantasy,Romance   \n",
              "2   Magistrarna på sommarlov  1941.0             86.0                  Comedy   \n",
              "3               Summer Storm  1944.0            106.0   Crime,Drama,Film-Noir   \n",
              "4          Centennial Summer  1946.0            102.0   History,Music,Romance   \n",
              "\n",
              "                      simple_title  average_rating  num_votes  \n",
              "0                midsummer madness             7.4         19  \n",
              "1         a midsummer nights dream             6.8       3931  \n",
              "2  the teachers on summer vacation             5.5         78  \n",
              "3                     summer storm             6.6        688  \n",
              "4                centennial summer             6.1        431  "
            ],
            "text/html": [
              "\n",
              "  <div id=\"df-d6c30e4a-78ac-44d7-8fab-05280730730c\" class=\"colab-df-container\">\n",
              "    <div>\n",
              "<style scoped>\n",
              "    .dataframe tbody tr th:only-of-type {\n",
              "        vertical-align: middle;\n",
              "    }\n",
              "\n",
              "    .dataframe tbody tr th {\n",
              "        vertical-align: top;\n",
              "    }\n",
              "\n",
              "    .dataframe thead th {\n",
              "        text-align: right;\n",
              "    }\n",
              "</style>\n",
              "<table border=\"1\" class=\"dataframe\">\n",
              "  <thead>\n",
              "    <tr style=\"text-align: right;\">\n",
              "      <th></th>\n",
              "      <th>tconst</th>\n",
              "      <th>title_type</th>\n",
              "      <th>primary_title</th>\n",
              "      <th>original_title</th>\n",
              "      <th>year</th>\n",
              "      <th>runtime_minutes</th>\n",
              "      <th>genres</th>\n",
              "      <th>simple_title</th>\n",
              "      <th>average_rating</th>\n",
              "      <th>num_votes</th>\n",
              "    </tr>\n",
              "  </thead>\n",
              "  <tbody>\n",
              "    <tr>\n",
              "      <th>0</th>\n",
              "      <td>tt0011462</td>\n",
              "      <td>movie</td>\n",
              "      <td>Midsummer Madness</td>\n",
              "      <td>Midsummer Madness</td>\n",
              "      <td>1920.0</td>\n",
              "      <td>60.0</td>\n",
              "      <td>Drama</td>\n",
              "      <td>midsummer madness</td>\n",
              "      <td>7.4</td>\n",
              "      <td>19</td>\n",
              "    </tr>\n",
              "    <tr>\n",
              "      <th>1</th>\n",
              "      <td>tt0026714</td>\n",
              "      <td>movie</td>\n",
              "      <td>A Midsummer Night's Dream</td>\n",
              "      <td>A Midsummer Night's Dream</td>\n",
              "      <td>1935.0</td>\n",
              "      <td>133.0</td>\n",
              "      <td>Comedy,Fantasy,Romance</td>\n",
              "      <td>a midsummer nights dream</td>\n",
              "      <td>6.8</td>\n",
              "      <td>3931</td>\n",
              "    </tr>\n",
              "    <tr>\n",
              "      <th>2</th>\n",
              "      <td>tt0033864</td>\n",
              "      <td>movie</td>\n",
              "      <td>The Teachers on Summer Vacation</td>\n",
              "      <td>Magistrarna på sommarlov</td>\n",
              "      <td>1941.0</td>\n",
              "      <td>86.0</td>\n",
              "      <td>Comedy</td>\n",
              "      <td>the teachers on summer vacation</td>\n",
              "      <td>5.5</td>\n",
              "      <td>78</td>\n",
              "    </tr>\n",
              "    <tr>\n",
              "      <th>3</th>\n",
              "      <td>tt0037325</td>\n",
              "      <td>movie</td>\n",
              "      <td>Summer Storm</td>\n",
              "      <td>Summer Storm</td>\n",
              "      <td>1944.0</td>\n",
              "      <td>106.0</td>\n",
              "      <td>Crime,Drama,Film-Noir</td>\n",
              "      <td>summer storm</td>\n",
              "      <td>6.6</td>\n",
              "      <td>688</td>\n",
              "    </tr>\n",
              "    <tr>\n",
              "      <th>4</th>\n",
              "      <td>tt0038406</td>\n",
              "      <td>movie</td>\n",
              "      <td>Centennial Summer</td>\n",
              "      <td>Centennial Summer</td>\n",
              "      <td>1946.0</td>\n",
              "      <td>102.0</td>\n",
              "      <td>History,Music,Romance</td>\n",
              "      <td>centennial summer</td>\n",
              "      <td>6.1</td>\n",
              "      <td>431</td>\n",
              "    </tr>\n",
              "  </tbody>\n",
              "</table>\n",
              "</div>\n",
              "    <div class=\"colab-df-buttons\">\n",
              "\n",
              "  <div class=\"colab-df-container\">\n",
              "    <button class=\"colab-df-convert\" onclick=\"convertToInteractive('df-d6c30e4a-78ac-44d7-8fab-05280730730c')\"\n",
              "            title=\"Convert this dataframe to an interactive table.\"\n",
              "            style=\"display:none;\">\n",
              "\n",
              "  <svg xmlns=\"http://www.w3.org/2000/svg\" height=\"24px\" viewBox=\"0 -960 960 960\">\n",
              "    <path d=\"M120-120v-720h720v720H120Zm60-500h600v-160H180v160Zm220 220h160v-160H400v160Zm0 220h160v-160H400v160ZM180-400h160v-160H180v160Zm440 0h160v-160H620v160ZM180-180h160v-160H180v160Zm440 0h160v-160H620v160Z\"/>\n",
              "  </svg>\n",
              "    </button>\n",
              "\n",
              "  <style>\n",
              "    .colab-df-container {\n",
              "      display:flex;\n",
              "      gap: 12px;\n",
              "    }\n",
              "\n",
              "    .colab-df-convert {\n",
              "      background-color: #E8F0FE;\n",
              "      border: none;\n",
              "      border-radius: 50%;\n",
              "      cursor: pointer;\n",
              "      display: none;\n",
              "      fill: #1967D2;\n",
              "      height: 32px;\n",
              "      padding: 0 0 0 0;\n",
              "      width: 32px;\n",
              "    }\n",
              "\n",
              "    .colab-df-convert:hover {\n",
              "      background-color: #E2EBFA;\n",
              "      box-shadow: 0px 1px 2px rgba(60, 64, 67, 0.3), 0px 1px 3px 1px rgba(60, 64, 67, 0.15);\n",
              "      fill: #174EA6;\n",
              "    }\n",
              "\n",
              "    .colab-df-buttons div {\n",
              "      margin-bottom: 4px;\n",
              "    }\n",
              "\n",
              "    [theme=dark] .colab-df-convert {\n",
              "      background-color: #3B4455;\n",
              "      fill: #D2E3FC;\n",
              "    }\n",
              "\n",
              "    [theme=dark] .colab-df-convert:hover {\n",
              "      background-color: #434B5C;\n",
              "      box-shadow: 0px 1px 3px 1px rgba(0, 0, 0, 0.15);\n",
              "      filter: drop-shadow(0px 1px 2px rgba(0, 0, 0, 0.3));\n",
              "      fill: #FFFFFF;\n",
              "    }\n",
              "  </style>\n",
              "\n",
              "    <script>\n",
              "      const buttonEl =\n",
              "        document.querySelector('#df-d6c30e4a-78ac-44d7-8fab-05280730730c button.colab-df-convert');\n",
              "      buttonEl.style.display =\n",
              "        google.colab.kernel.accessAllowed ? 'block' : 'none';\n",
              "\n",
              "      async function convertToInteractive(key) {\n",
              "        const element = document.querySelector('#df-d6c30e4a-78ac-44d7-8fab-05280730730c');\n",
              "        const dataTable =\n",
              "          await google.colab.kernel.invokeFunction('convertToInteractive',\n",
              "                                                    [key], {});\n",
              "        if (!dataTable) return;\n",
              "\n",
              "        const docLinkHtml = 'Like what you see? Visit the ' +\n",
              "          '<a target=\"_blank\" href=https://colab.research.google.com/notebooks/data_table.ipynb>data table notebook</a>'\n",
              "          + ' to learn more about interactive tables.';\n",
              "        element.innerHTML = '';\n",
              "        dataTable['output_type'] = 'display_data';\n",
              "        await google.colab.output.renderOutput(dataTable, element);\n",
              "        const docLink = document.createElement('div');\n",
              "        docLink.innerHTML = docLinkHtml;\n",
              "        element.appendChild(docLink);\n",
              "      }\n",
              "    </script>\n",
              "  </div>\n",
              "\n",
              "\n",
              "<div id=\"df-22e2c8c4-8aa0-4156-93d5-2b3f16fd8761\">\n",
              "  <button class=\"colab-df-quickchart\" onclick=\"quickchart('df-22e2c8c4-8aa0-4156-93d5-2b3f16fd8761')\"\n",
              "            title=\"Suggest charts\"\n",
              "            style=\"display:none;\">\n",
              "\n",
              "<svg xmlns=\"http://www.w3.org/2000/svg\" height=\"24px\"viewBox=\"0 0 24 24\"\n",
              "     width=\"24px\">\n",
              "    <g>\n",
              "        <path d=\"M19 3H5c-1.1 0-2 .9-2 2v14c0 1.1.9 2 2 2h14c1.1 0 2-.9 2-2V5c0-1.1-.9-2-2-2zM9 17H7v-7h2v7zm4 0h-2V7h2v10zm4 0h-2v-4h2v4z\"/>\n",
              "    </g>\n",
              "</svg>\n",
              "  </button>\n",
              "\n",
              "<style>\n",
              "  .colab-df-quickchart {\n",
              "      --bg-color: #E8F0FE;\n",
              "      --fill-color: #1967D2;\n",
              "      --hover-bg-color: #E2EBFA;\n",
              "      --hover-fill-color: #174EA6;\n",
              "      --disabled-fill-color: #AAA;\n",
              "      --disabled-bg-color: #DDD;\n",
              "  }\n",
              "\n",
              "  [theme=dark] .colab-df-quickchart {\n",
              "      --bg-color: #3B4455;\n",
              "      --fill-color: #D2E3FC;\n",
              "      --hover-bg-color: #434B5C;\n",
              "      --hover-fill-color: #FFFFFF;\n",
              "      --disabled-bg-color: #3B4455;\n",
              "      --disabled-fill-color: #666;\n",
              "  }\n",
              "\n",
              "  .colab-df-quickchart {\n",
              "    background-color: var(--bg-color);\n",
              "    border: none;\n",
              "    border-radius: 50%;\n",
              "    cursor: pointer;\n",
              "    display: none;\n",
              "    fill: var(--fill-color);\n",
              "    height: 32px;\n",
              "    padding: 0;\n",
              "    width: 32px;\n",
              "  }\n",
              "\n",
              "  .colab-df-quickchart:hover {\n",
              "    background-color: var(--hover-bg-color);\n",
              "    box-shadow: 0 1px 2px rgba(60, 64, 67, 0.3), 0 1px 3px 1px rgba(60, 64, 67, 0.15);\n",
              "    fill: var(--button-hover-fill-color);\n",
              "  }\n",
              "\n",
              "  .colab-df-quickchart-complete:disabled,\n",
              "  .colab-df-quickchart-complete:disabled:hover {\n",
              "    background-color: var(--disabled-bg-color);\n",
              "    fill: var(--disabled-fill-color);\n",
              "    box-shadow: none;\n",
              "  }\n",
              "\n",
              "  .colab-df-spinner {\n",
              "    border: 2px solid var(--fill-color);\n",
              "    border-color: transparent;\n",
              "    border-bottom-color: var(--fill-color);\n",
              "    animation:\n",
              "      spin 1s steps(1) infinite;\n",
              "  }\n",
              "\n",
              "  @keyframes spin {\n",
              "    0% {\n",
              "      border-color: transparent;\n",
              "      border-bottom-color: var(--fill-color);\n",
              "      border-left-color: var(--fill-color);\n",
              "    }\n",
              "    20% {\n",
              "      border-color: transparent;\n",
              "      border-left-color: var(--fill-color);\n",
              "      border-top-color: var(--fill-color);\n",
              "    }\n",
              "    30% {\n",
              "      border-color: transparent;\n",
              "      border-left-color: var(--fill-color);\n",
              "      border-top-color: var(--fill-color);\n",
              "      border-right-color: var(--fill-color);\n",
              "    }\n",
              "    40% {\n",
              "      border-color: transparent;\n",
              "      border-right-color: var(--fill-color);\n",
              "      border-top-color: var(--fill-color);\n",
              "    }\n",
              "    60% {\n",
              "      border-color: transparent;\n",
              "      border-right-color: var(--fill-color);\n",
              "    }\n",
              "    80% {\n",
              "      border-color: transparent;\n",
              "      border-right-color: var(--fill-color);\n",
              "      border-bottom-color: var(--fill-color);\n",
              "    }\n",
              "    90% {\n",
              "      border-color: transparent;\n",
              "      border-bottom-color: var(--fill-color);\n",
              "    }\n",
              "  }\n",
              "</style>\n",
              "\n",
              "  <script>\n",
              "    async function quickchart(key) {\n",
              "      const quickchartButtonEl =\n",
              "        document.querySelector('#' + key + ' button');\n",
              "      quickchartButtonEl.disabled = true;  // To prevent multiple clicks.\n",
              "      quickchartButtonEl.classList.add('colab-df-spinner');\n",
              "      try {\n",
              "        const charts = await google.colab.kernel.invokeFunction(\n",
              "            'suggestCharts', [key], {});\n",
              "      } catch (error) {\n",
              "        console.error('Error during call to suggestCharts:', error);\n",
              "      }\n",
              "      quickchartButtonEl.classList.remove('colab-df-spinner');\n",
              "      quickchartButtonEl.classList.add('colab-df-quickchart-complete');\n",
              "    }\n",
              "    (() => {\n",
              "      let quickchartButtonEl =\n",
              "        document.querySelector('#df-22e2c8c4-8aa0-4156-93d5-2b3f16fd8761 button');\n",
              "      quickchartButtonEl.style.display =\n",
              "        google.colab.kernel.accessAllowed ? 'block' : 'none';\n",
              "    })();\n",
              "  </script>\n",
              "</div>\n",
              "\n",
              "    </div>\n",
              "  </div>\n"
            ],
            "application/vnd.google.colaboratory.intrinsic+json": {
              "type": "dataframe",
              "variable_name": "df",
              "summary": "{\n  \"name\": \"df\",\n  \"rows\": 905,\n  \"fields\": [\n    {\n      \"column\": \"tconst\",\n      \"properties\": {\n        \"dtype\": \"string\",\n        \"num_unique_values\": 905,\n        \"samples\": [\n          \"tt0068992\",\n          \"tt1209359\",\n          \"tt0162677\"\n        ],\n        \"semantic_type\": \"\",\n        \"description\": \"\"\n      }\n    },\n    {\n      \"column\": \"title_type\",\n      \"properties\": {\n        \"dtype\": \"category\",\n        \"num_unique_values\": 3,\n        \"samples\": [\n          \"movie\",\n          \"tvMovie\",\n          \"video\"\n        ],\n        \"semantic_type\": \"\",\n        \"description\": \"\"\n      }\n    },\n    {\n      \"column\": \"primary_title\",\n      \"properties\": {\n        \"dtype\": \"string\",\n        \"num_unique_values\": 779,\n        \"samples\": [\n          \"A Very Unsettled Summer\",\n          \"Summer Outside\",\n          \"By Summer's End\"\n        ],\n        \"semantic_type\": \"\",\n        \"description\": \"\"\n      }\n    },\n    {\n      \"column\": \"original_title\",\n      \"properties\": {\n        \"dtype\": \"string\",\n        \"num_unique_values\": 838,\n        \"samples\": [\n          \"Pitk\\u00e4 kuuma kes\\u00e4\",\n          \"Zulu Summer\",\n          \"Hot Summer in Barefoot County\"\n        ],\n        \"semantic_type\": \"\",\n        \"description\": \"\"\n      }\n    },\n    {\n      \"column\": \"year\",\n      \"properties\": {\n        \"dtype\": \"number\",\n        \"std\": 19.448165643947377,\n        \"min\": 1920.0,\n        \"max\": 2024.0,\n        \"num_unique_values\": 83,\n        \"samples\": [\n          1973.0,\n          1920.0,\n          1965.0\n        ],\n        \"semantic_type\": \"\",\n        \"description\": \"\"\n      }\n    },\n    {\n      \"column\": \"runtime_minutes\",\n      \"properties\": {\n        \"dtype\": \"number\",\n        \"std\": 23.854447281128042,\n        \"min\": 5.0,\n        \"max\": 237.0,\n        \"num_unique_values\": 119,\n        \"samples\": [\n          142.0,\n          67.0,\n          102.0\n        ],\n        \"semantic_type\": \"\",\n        \"description\": \"\"\n      }\n    },\n    {\n      \"column\": \"genres\",\n      \"properties\": {\n        \"dtype\": \"category\",\n        \"num_unique_values\": 160,\n        \"samples\": [\n          \"Drama,Sport\",\n          \"Short\",\n          \"Biography,Drama,Family\"\n        ],\n        \"semantic_type\": \"\",\n        \"description\": \"\"\n      }\n    },\n    {\n      \"column\": \"simple_title\",\n      \"properties\": {\n        \"dtype\": \"string\",\n        \"num_unique_values\": 778,\n        \"samples\": [\n          \"a very unsettled summer\",\n          \"summer outside\",\n          \"by summers end\"\n        ],\n        \"semantic_type\": \"\",\n        \"description\": \"\"\n      }\n    },\n    {\n      \"column\": \"average_rating\",\n      \"properties\": {\n        \"dtype\": \"number\",\n        \"std\": 1.2454137544377872,\n        \"min\": 2.3,\n        \"max\": 9.8,\n        \"num_unique_values\": 70,\n        \"samples\": [\n          6.3,\n          7.4,\n          8.3\n        ],\n        \"semantic_type\": \"\",\n        \"description\": \"\"\n      }\n    },\n    {\n      \"column\": \"num_votes\",\n      \"properties\": {\n        \"dtype\": \"number\",\n        \"std\": 20630,\n        \"min\": 10,\n        \"max\": 564894,\n        \"num_unique_values\": 488,\n        \"samples\": [\n          407,\n          86,\n          3526\n        ],\n        \"semantic_type\": \"\",\n        \"description\": \"\"\n      }\n    }\n  ]\n}"
            }
          },
          "metadata": {},
          "execution_count": 6
        }
      ]
    },
    {
      "cell_type": "code",
      "source": [
        "summary_statistics = df.describe()\n",
        "\n",
        "print(summary_statistics)"
      ],
      "metadata": {
        "colab": {
          "base_uri": "https://localhost:8080/"
        },
        "id": "COlHpSvUhSKc",
        "outputId": "12662468-f5cc-4c29-b32e-57d2ff509e52"
      },
      "execution_count": 7,
      "outputs": [
        {
          "output_type": "stream",
          "name": "stdout",
          "text": [
            "              year  runtime_minutes  average_rating      num_votes\n",
            "count   904.000000       849.000000      905.000000     905.000000\n",
            "mean   2001.353982        91.043581        6.273702    2296.285083\n",
            "std      19.448166        23.854447        1.245414   20630.393488\n",
            "min    1920.000000         5.000000        2.300000      10.000000\n",
            "25%    1990.000000        82.000000        5.600000      34.000000\n",
            "50%    2008.000000        91.000000        6.400000     119.000000\n",
            "75%    2016.000000       101.000000        7.100000     517.000000\n",
            "max    2024.000000       237.000000        9.800000  564894.000000\n"
          ]
        }
      ]
    },
    {
      "cell_type": "code",
      "source": [
        "#What is the size of the dataset? (Number of rows and columns)"
      ],
      "metadata": {
        "id": "LJY5oD_QhvRz"
      },
      "execution_count": 8,
      "outputs": []
    },
    {
      "cell_type": "code",
      "source": [
        "rows, columns = df.shape\n",
        "print(f\"The dataset has {rows} rows and {columns} columns.\")\n",
        "\n"
      ],
      "metadata": {
        "colab": {
          "base_uri": "https://localhost:8080/"
        },
        "id": "RgvFDw8piWob",
        "outputId": "dfad1e43-5eeb-4224-bf2e-9e03d4442a4e"
      },
      "execution_count": 9,
      "outputs": [
        {
          "output_type": "stream",
          "name": "stdout",
          "text": [
            "The dataset has 905 rows and 10 columns.\n"
          ]
        }
      ]
    },
    {
      "cell_type": "code",
      "source": [
        "df.shape"
      ],
      "metadata": {
        "colab": {
          "base_uri": "https://localhost:8080/"
        },
        "id": "UmlwxqiVikqd",
        "outputId": "587d69d5-caed-4b73-aa29-2c99f1af2721"
      },
      "execution_count": 10,
      "outputs": [
        {
          "output_type": "execute_result",
          "data": {
            "text/plain": [
              "(905, 10)"
            ]
          },
          "metadata": {},
          "execution_count": 10
        }
      ]
    },
    {
      "cell_type": "code",
      "source": [
        "#What are the data types of each column?"
      ],
      "metadata": {
        "id": "i3hshlaAimmY"
      },
      "execution_count": 11,
      "outputs": []
    },
    {
      "cell_type": "code",
      "source": [
        "column_data_types = df.dtypes\n",
        "print(column_data_types)\n"
      ],
      "metadata": {
        "colab": {
          "base_uri": "https://localhost:8080/"
        },
        "id": "jQNORj-qi4LD",
        "outputId": "c611b971-a250-4f37-a0bd-6ad37e90f70f"
      },
      "execution_count": 12,
      "outputs": [
        {
          "output_type": "stream",
          "name": "stdout",
          "text": [
            "tconst              object\n",
            "title_type          object\n",
            "primary_title       object\n",
            "original_title      object\n",
            "year               float64\n",
            "runtime_minutes    float64\n",
            "genres              object\n",
            "simple_title        object\n",
            "average_rating     float64\n",
            "num_votes            int64\n",
            "dtype: object\n"
          ]
        }
      ]
    },
    {
      "cell_type": "code",
      "source": [
        "#:Arethere any missing values in the dataset? If so, which columns have missing values and how many?"
      ],
      "metadata": {
        "id": "u4-3lhxyi7FT"
      },
      "execution_count": 13,
      "outputs": []
    },
    {
      "cell_type": "code",
      "source": [
        "missing_values = df.isnull().sum()\n",
        "print(\"Columns with missing values:\")\n",
        "print(missing_values[missing_values > 0])\n"
      ],
      "metadata": {
        "colab": {
          "base_uri": "https://localhost:8080/"
        },
        "id": "N0DBPImYjasa",
        "outputId": "ed1c77be-88a9-425a-8f29-b6a0c571fe0e"
      },
      "execution_count": 14,
      "outputs": [
        {
          "output_type": "stream",
          "name": "stdout",
          "text": [
            "Columns with missing values:\n",
            "year                1\n",
            "runtime_minutes    56\n",
            "genres             18\n",
            "dtype: int64\n"
          ]
        }
      ]
    },
    {
      "cell_type": "code",
      "source": [
        "#What are the unique values in a categorical column of your choice? How many unique values are there?"
      ],
      "metadata": {
        "id": "7wBalxD9jeil"
      },
      "execution_count": 17,
      "outputs": []
    },
    {
      "cell_type": "code",
      "source": [
        "unique_values = df['genres'].unique()\n",
        "num_unique_values = df['genres'].nunique()\n",
        "\n",
        "print(f\"Unique values in the 'genre' column: {unique_values}\")\n",
        "print(f\"Number of unique values in the 'genre' column: {num_unique_values}\")\n"
      ],
      "metadata": {
        "colab": {
          "base_uri": "https://localhost:8080/"
        },
        "id": "Xw5WlYWMjokY",
        "outputId": "61cc403d-55c3-4b40-dd65-34a654f3974b"
      },
      "execution_count": 20,
      "outputs": [
        {
          "output_type": "stream",
          "name": "stdout",
          "text": [
            "Unique values in the 'genre' column: ['Drama' 'Comedy,Fantasy,Romance' 'Comedy' 'Crime,Drama,Film-Noir'\n",
            " 'History,Music,Romance' 'Drama,Fantasy' 'Musical'\n",
            " 'Comedy,Musical,Romance' 'Comedy,Drama,Musical' 'Musical,Romance'\n",
            " 'Comedy,Drama,Romance' 'Drama,Romance' 'Action,Drama,Romance'\n",
            " 'Comedy,Drama' 'Comedy,Romance' 'Comedy,Music' 'Drama,Romance,War'\n",
            " 'Documentary,Music' 'Animation,Comedy,Fantasy' 'Drama,Mystery,Thriller'\n",
            " 'Documentary,History' 'Comedy,Family,Musical' 'Comedy,Musical'\n",
            " 'Crime,Drama' 'Crime,Drama,Romance' 'Documentary,Sport' 'Music'\n",
            " 'Adventure,Drama,Mystery' 'Action,Crime,Drama' 'Documentary'\n",
            " 'Adventure,Drama' 'Drama,War' 'Drama,History' 'Action,Comedy'\n",
            " 'Romance,Thriller' 'Comedy,Mystery,Sci-Fi' 'Drama,Thriller'\n",
            " 'Adventure,Comedy' 'Horror,Thriller' 'Romance' 'Comedy,Fantasy'\n",
            " 'Horror,Mystery,Thriller' 'Biography,Drama' 'Drama,Mystery'\n",
            " 'Comedy,Drama,Fantasy' 'Drama,Music,Romance' 'Drama,Horror,Thriller'\n",
            " 'Drama,Fantasy,Mystery' 'Action' 'Biography,Drama,Romance' 'Mystery'\n",
            " 'Drama,Family' 'Biography,Drama,Music' nan 'Comedy,Sport'\n",
            " 'Drama,History,Sport' 'Comedy,Family' 'Adventure,Documentary,Sport'\n",
            " 'Action,Adventure' 'Biography,Documentary' 'Drama,Horror,Mystery'\n",
            " 'Horror,Mystery' 'Comedy,Romance,Sport' 'Adventure,Animation,Comedy'\n",
            " 'Adventure' 'Biography' 'Fantasy' 'Drama,Family,Sci-Fi'\n",
            " 'Comedy,Drama,Family' 'Animation,Family' 'Biography,Drama,History'\n",
            " 'Comedy,Drama,Music' 'Crime,Drama,Horror' 'Comedy,Fantasy,Music'\n",
            " 'Drama,Western' 'Comedy,Documentary' 'Documentary,History,Sport' 'Family'\n",
            " 'Comedy,Sci-Fi' 'Action,War' 'Adventure,Comedy,Family'\n",
            " 'Adventure,Drama,Family' 'Documentary,Short' 'Drama,Fantasy,Sci-Fi'\n",
            " 'Action,Comedy,Family' 'Action,Animation,Sport' 'Comedy,Family,Music'\n",
            " 'Horror' 'Adventure,Animation,Drama' 'Animation,Short'\n",
            " 'Animation,Comedy,Drama' 'Adventure,Drama,Horror' 'Western'\n",
            " 'Drama,Mystery,Romance' 'Adventure,Family' 'Animation'\n",
            " 'Comedy,Family,Fantasy' 'Comedy,Crime,Horror' 'Drama,Romance,Thriller'\n",
            " 'Crime,Drama,Mystery' 'Documentary,History,Music'\n",
            " 'Action,Animation,Comedy' 'Comedy,Horror' 'Documentary,War'\n",
            " 'Animation,Comedy,Short' 'Animation,Family,Fantasy' 'Drama,Sport'\n",
            " 'Crime,Drama,Thriller' 'Sport' 'Short' 'Drama,Mystery,Sci-Fi' 'Crime'\n",
            " 'Horror,Musical' 'Drama,Music' 'Action,Adventure,Animation'\n",
            " 'Biography,Documentary,Drama' 'Animation,Drama,Romance'\n",
            " 'Action,Crime,Mystery' 'Drama,History,Western' 'Documentary,Drama'\n",
            " 'Animation,Drama,Fantasy' 'Drama,Musical' 'Drama,Family,Music'\n",
            " 'Horror,Mystery,Romance' 'Drama,Short' 'Drama,Family,Romance'\n",
            " 'Comedy,Drama,Mystery' 'Animation,Drama' 'Drama,Sci-Fi,Thriller'\n",
            " 'Horror,Short' 'Comedy,Short' 'Adventure,Comedy,Drama' 'Music,Short'\n",
            " 'Drama,Musical,Romance' 'Documentary,Family' 'Comedy,Horror,Musical'\n",
            " 'Family,Fantasy' 'Animation,Horror,Sci-Fi' 'Biography,Comedy,Drama'\n",
            " 'Comedy,Drama,Sport' 'Animation,Comedy,Crime' 'Comedy,Drama,Thriller'\n",
            " 'Biography,Drama,Family' 'Biography,Documentary,Music' 'Action,Short'\n",
            " 'Thriller' 'Animation,Comedy,Music' 'Comedy,Crime,Drama'\n",
            " 'Animation,Comedy,Romance' 'Biography,Documentary,Sport'\n",
            " 'Biography,Crime,Documentary' 'Crime,Documentary,History'\n",
            " 'Animation,Comedy' 'Animation,Drama,Sport' 'Reality-TV' 'Action,Thriller'\n",
            " 'Comedy,Family,Romance' 'Drama,History,Romance' 'Action,Animation,Sci-Fi'\n",
            " 'Talk-Show' 'Comedy,Drama,History']\n",
            "Number of unique values in the 'genre' column: 160\n"
          ]
        }
      ]
    },
    {
      "cell_type": "code",
      "source": [
        "#:Foranumerical column of your choice, calculate the mean, median, andstandard deviation."
      ],
      "metadata": {
        "id": "w-N4NRb8kSQs"
      },
      "execution_count": 21,
      "outputs": []
    },
    {
      "cell_type": "code",
      "source": [
        "# Replace 'average_rating' with the correct numerical column name\n",
        "mean_value = df['average_rating'].mean()\n",
        "median_value = df['average_rating'].median()\n",
        "std_deviation = df['average_rating'].std()\n",
        "\n",
        "print(f\"Mean of 'average_rating': {mean_value}\")\n",
        "print(f\"Median of 'average_rating': {median_value}\")\n",
        "print(f\"Standard Deviation of 'average_rating': {std_deviation}\")\n",
        "\n"
      ],
      "metadata": {
        "colab": {
          "base_uri": "https://localhost:8080/"
        },
        "id": "tZsle362qCVH",
        "outputId": "178beb45-54be-4ade-8f88-30ffe44d07bf"
      },
      "execution_count": 23,
      "outputs": [
        {
          "output_type": "stream",
          "name": "stdout",
          "text": [
            "Mean of 'average_rating': 6.273701657458563\n",
            "Median of 'average_rating': 6.4\n",
            "Standard Deviation of 'average_rating': 1.2454137544377872\n"
          ]
        }
      ]
    },
    {
      "cell_type": "code",
      "source": [
        "#: Identify any potential outliers in a numerical column of your choice. Explainyour approach.\n",
        ""
      ],
      "metadata": {
        "id": "b68f7fVZr-oz"
      },
      "execution_count": 24,
      "outputs": []
    },
    {
      "cell_type": "code",
      "source": [
        "Q1 = df['average_rating'].quantile(0.25)\n",
        "Q3 = df['average_rating'].quantile(0.75)\n",
        "IQR = Q3 - Q1\n",
        "lower_bound = Q1 - 1.5 * IQR\n",
        "upper_bound = Q3 + 1.5 * IQR\n",
        "print(f\"Q1 (25th percentile): {Q1}\")\n",
        "print(f\"Q3 (75th percentile): {Q3}\")\n",
        "print(f\"IQR: {IQR}\")\n",
        "print(f\"Lower bound for outliers: {lower_bound}\")\n",
        "print(f\"Upper bound for outliers: {upper_bound}\")\n"
      ],
      "metadata": {
        "colab": {
          "base_uri": "https://localhost:8080/"
        },
        "id": "tffQRQA6uFSA",
        "outputId": "0d17b5e5-b2db-42ec-b99f-9f749d3ae500"
      },
      "execution_count": 25,
      "outputs": [
        {
          "output_type": "stream",
          "name": "stdout",
          "text": [
            "Q1 (25th percentile): 5.6\n",
            "Q3 (75th percentile): 7.1\n",
            "IQR: 1.5\n",
            "Lower bound for outliers: 3.3499999999999996\n",
            "Upper bound for outliers: 9.35\n"
          ]
        }
      ]
    },
    {
      "cell_type": "code",
      "source": [
        "outliers = df[(df['average_rating'] < lower_bound) | (df['average_rating'] > upper_bound)]\n",
        "print(\"Outliers in the 'average_rating' column:\")\n",
        "print(outliers)\n"
      ],
      "metadata": {
        "colab": {
          "base_uri": "https://localhost:8080/"
        },
        "id": "JLOtpnU_ucMr",
        "outputId": "64ffee8a-af16-4da4-a785-8e39d90b95ff"
      },
      "execution_count": 27,
      "outputs": [
        {
          "output_type": "stream",
          "name": "stdout",
          "text": [
            "Outliers in the 'average_rating' column:\n",
            "         tconst title_type                        primary_title  \\\n",
            "83    tt0072173      movie                    Malibu Hot Summer   \n",
            "169   tt0103813      movie                     Bikini Summer II   \n",
            "196   tt0118720      movie  Bikini Summer III: South Beach Heat   \n",
            "298   tt0326639      movie                        Summer of Fun   \n",
            "329   tt0399811      movie                          Summer Show   \n",
            "333   tt0409878      video                         Demon Summer   \n",
            "399   tt0937428      video           The Summer of the Massacre   \n",
            "424  tt10593750      movie        The Chaos Class: Summer Games   \n",
            "506   tt1364480      video                          Dead Summer   \n",
            "508   tt1370426      movie                   Costa Rican Summer   \n",
            "521  tt14442616      movie                         Cruel Summer   \n",
            "554  tt16027742      video        Summer Nude '13: Making Movie   \n",
            "557   tt1626240      movie                 Summertime Christmas   \n",
            "586   tt1795595      movie                   Exit 91 Summerland   \n",
            "596   tt1874779      movie               The Summer of Massacre   \n",
            "601  tt19715962      movie              Darker Shades of Summer   \n",
            "631   tt2149137      movie          Snow White: A Deadly Summer   \n",
            "651   tt2310958      movie                           Summertime   \n",
            "653   tt2326400    tvMovie                     Summer Intensive   \n",
            "658   tt2350954      movie                 Santa's Summer House   \n",
            "747   tt3838694      video             Kasabian Summer Solstice   \n",
            "764   tt4354146      movie                Summerhouse Slaughter   \n",
            "853   tt7123254      movie                        Summer Palace   \n",
            "\n",
            "                          original_title    year  runtime_minutes  \\\n",
            "83                     Malibu Hot Summer  1981.0             90.0   \n",
            "169                     Bikini Summer II  1992.0             85.0   \n",
            "196  Bikini Summer III: South Beach Heat  1997.0             87.0   \n",
            "298                        Summer of Fun  1997.0             62.0   \n",
            "329                     Um Show de Verão  2004.0             97.0   \n",
            "333                         Demon Summer  2003.0             80.0   \n",
            "399           The Summer of the Massacre  2006.0             72.0   \n",
            "424          Hababam Sinifi Yaz Oyunlari  2021.0            108.0   \n",
            "506                          Dead Summer  2005.0             71.0   \n",
            "508                   Costa Rican Summer  2010.0             89.0   \n",
            "521                         Cruel Summer  2021.0             80.0   \n",
            "554        Summer Nude '13: Making Movie  2013.0              NaN   \n",
            "557                 Summertime Christmas  2010.0            110.0   \n",
            "586                   Exit 91 Summerland  2011.0             80.0   \n",
            "596               The Summer of Massacre  2012.0             98.0   \n",
            "601              Darker Shades of Summer  2023.0             80.0   \n",
            "631          Snow White: A Deadly Summer  2012.0             83.0   \n",
            "651                           Summertime  2012.0             93.0   \n",
            "653                     Summer Intensive  2012.0              NaN   \n",
            "658                 Santa's Summer House  2013.0             90.0   \n",
            "747             Kasabian Summer Solstice  2014.0              NaN   \n",
            "764                Summerhouse Slaughter  2023.0             70.0   \n",
            "853                        Summer Palace  2000.0            114.0   \n",
            "\n",
            "                     genres                        simple_title  \\\n",
            "83           Comedy,Romance                   malibu hot summer   \n",
            "169                  Comedy                    bikini summer ii   \n",
            "196                  Comedy  bikini summer iii south beach heat   \n",
            "298                     NaN                       summer of fun   \n",
            "329     Comedy,Family,Music                         summer show   \n",
            "333                  Horror                        demon summer   \n",
            "399                  Horror          the summer of the massacre   \n",
            "424                  Comedy        the chaos class summer games   \n",
            "506                  Horror                         dead summer   \n",
            "508                  Comedy                  costa rican summer   \n",
            "521                  Horror                        cruel summer   \n",
            "554       Documentary,Short         summer nude 13 making movie   \n",
            "557           Comedy,Family                summertime christmas   \n",
            "586  Horror,Mystery,Romance                  exit 91 summerland   \n",
            "596         Horror,Thriller              the summer of massacre   \n",
            "601        Romance,Thriller             darker shades of summer   \n",
            "631                  Horror          snow white a deadly summer   \n",
            "651   Comedy,Horror,Musical                          summertime   \n",
            "653               Biography                    summer intensive   \n",
            "658          Family,Fantasy                 santas summer house   \n",
            "747                   Music            kasabian summer solstice   \n",
            "764                  Horror               summerhouse slaughter   \n",
            "853                  Horror                       summer palace   \n",
            "\n",
            "     average_rating  num_votes  \n",
            "83              2.7        871  \n",
            "169             3.3        513  \n",
            "196             2.9        297  \n",
            "298             3.3         55  \n",
            "329             2.4        196  \n",
            "333             3.1        178  \n",
            "399             3.1        115  \n",
            "424             3.2        734  \n",
            "506             2.3         20  \n",
            "508             2.7        806  \n",
            "521             3.3        121  \n",
            "554             9.8         61  \n",
            "557             3.0        121  \n",
            "586             2.7         14  \n",
            "596             2.7        337  \n",
            "601             2.5        479  \n",
            "631             2.3        797  \n",
            "651             3.2        231  \n",
            "653             9.4         52  \n",
            "658             2.4        556  \n",
            "747             9.4         14  \n",
            "764             2.9        132  \n",
            "853             3.3         24  \n"
          ]
        }
      ]
    },
    {
      "cell_type": "code",
      "source": [
        "#here for finfing outliers i am using the IQR methond(Inter Quartile Range)\n",
        "#Calculate Quartiles: Q1 (25th percentile) and Q3 (75th percentile) divide the data into four equal parts.\n",
        "#Calculate IQR: The difference between Q3 and Q1.( Q3-Q1)\n",
        "#Define Bounds: Outliers are typically defined as values that fall below Q1 - 1.5 * IQR(lower bound) or above Q3 + 1.5 * IQR(upper bound).\n",
        "#Identify Outliers: Use these bounds to filter out the outliers.outliers falls outside the lower bound and upper bound\n"
      ],
      "metadata": {
        "id": "MHHV508_unN4"
      },
      "execution_count": 28,
      "outputs": []
    },
    {
      "cell_type": "markdown",
      "source": [],
      "metadata": {
        "id": "G1i1B1zGwHJB"
      }
    },
    {
      "cell_type": "code",
      "source": [
        "#:Find the correlation between numerical columns and discuss any interestingrelationships."
      ],
      "metadata": {
        "id": "_fg6KGjrwTka"
      },
      "execution_count": 29,
      "outputs": []
    },
    {
      "cell_type": "markdown",
      "source": [],
      "metadata": {
        "id": "i_mVu5GHwFac"
      }
    },
    {
      "cell_type": "code",
      "source": [
        "numeric_df = df.select_dtypes(include=['number'])\n",
        "correlation_matrix = numeric_df.corr()\n",
        "print(\"Correlation matrix:\")\n",
        "print(correlation_matrix)\n"
      ],
      "metadata": {
        "colab": {
          "base_uri": "https://localhost:8080/"
        },
        "id": "5a8xy086xDN3",
        "outputId": "beb39803-e5f2-433b-f3ab-37f4192d1152"
      },
      "execution_count": 31,
      "outputs": [
        {
          "output_type": "stream",
          "name": "stdout",
          "text": [
            "Correlation matrix:\n",
            "                     year  runtime_minutes  average_rating  num_votes\n",
            "year             1.000000        -0.030933       -0.036706   0.004397\n",
            "runtime_minutes -0.030933         1.000000       -0.005684   0.044559\n",
            "average_rating  -0.036706        -0.005684        1.000000   0.048476\n",
            "num_votes        0.004397         0.044559        0.048476   1.000000\n"
          ]
        }
      ]
    },
    {
      "cell_type": "code",
      "source": [
        "#The correlation matrix shows the pairwise correlation coefficients between numerical columns.\n",
        "#Correlation coefficients range from -1 to 1:\n",
        "\n",
        "#1: Perfect positive correlation (as one variable increases, the other increases proportionally).\n",
        "#-1: Perfect negative correlation (as one variable increases, the other decreases proportionally).\n",
        "#0: No correlation (no predictable relationship)."
      ],
      "metadata": {
        "id": "g3oFhouvxGPw"
      },
      "execution_count": 32,
      "outputs": []
    },
    {
      "cell_type": "code",
      "source": [
        "#Groupthe data by a categorical column and compute the aggregate statistics(e.g., mean, sum) for a numerical column."
      ],
      "metadata": {
        "id": "jjFC9K1BySsu"
      },
      "execution_count": 33,
      "outputs": []
    },
    {
      "cell_type": "code",
      "source": [
        "mean_stats = df.groupby('genres')['average_rating'].mean()\n",
        "sum_stats = df.groupby('genres')['average_rating'].sum()\n",
        "min_stats = df.groupby('genres')['average_rating'].min()\n",
        "max_stats = df.groupby('genres')['average_rating'].max()\n",
        "count_stats = df.groupby('genres')['average_rating'].count()\n",
        "print(\"Mean average_rating   by genres:\")\n",
        "print(mean_stats)\n",
        "\n",
        "print(\"\\nSum of average_rating   by genres:\")\n",
        "print(sum_stats)\n",
        "print(\"min average_rating   by genres:\")\n",
        "print(min_stats)\n",
        "\n",
        "print(\"\\nmax of average_rating   by genres:\")\n",
        "print(max_stats)\n",
        "\n",
        "print(\"\\ncount of average_rating   by genres:\")\n",
        "print(count_stats)\n",
        "\n"
      ],
      "metadata": {
        "colab": {
          "base_uri": "https://localhost:8080/"
        },
        "id": "O4ICNZ440uJg",
        "outputId": "4d53e345-c6af-4d09-a703-4ea08a347370"
      },
      "execution_count": 43,
      "outputs": [
        {
          "output_type": "stream",
          "name": "stdout",
          "text": [
            "Mean average_rating   by genres:\n",
            "genres\n",
            "Action                        6.216667\n",
            "Action,Adventure              5.600000\n",
            "Action,Adventure,Animation    5.975000\n",
            "Action,Animation,Comedy       6.500000\n",
            "Action,Animation,Sci-Fi       7.000000\n",
            "                                ...   \n",
            "Short                         6.840000\n",
            "Sport                         5.266667\n",
            "Talk-Show                     7.800000\n",
            "Thriller                      6.800000\n",
            "Western                       3.500000\n",
            "Name: average_rating, Length: 160, dtype: float64\n",
            "\n",
            "Sum of average_rating   by genres:\n",
            "genres\n",
            "Action                        37.3\n",
            "Action,Adventure               5.6\n",
            "Action,Adventure,Animation    23.9\n",
            "Action,Animation,Comedy       13.0\n",
            "Action,Animation,Sci-Fi        7.0\n",
            "                              ... \n",
            "Short                         34.2\n",
            "Sport                         15.8\n",
            "Talk-Show                      7.8\n",
            "Thriller                       6.8\n",
            "Western                        3.5\n",
            "Name: average_rating, Length: 160, dtype: float64\n",
            "min average_rating   by genres:\n",
            "genres\n",
            "Action                        3.9\n",
            "Action,Adventure              5.6\n",
            "Action,Adventure,Animation    4.2\n",
            "Action,Animation,Comedy       5.9\n",
            "Action,Animation,Sci-Fi       7.0\n",
            "                             ... \n",
            "Short                         6.1\n",
            "Sport                         4.3\n",
            "Talk-Show                     7.8\n",
            "Thriller                      6.8\n",
            "Western                       3.5\n",
            "Name: average_rating, Length: 160, dtype: float64\n",
            "\n",
            "max of average_rating   by genres:\n",
            "genres\n",
            "Action                        7.4\n",
            "Action,Adventure              5.6\n",
            "Action,Adventure,Animation    7.4\n",
            "Action,Animation,Comedy       7.1\n",
            "Action,Animation,Sci-Fi       7.0\n",
            "                             ... \n",
            "Short                         7.6\n",
            "Sport                         6.0\n",
            "Talk-Show                     7.8\n",
            "Thriller                      6.8\n",
            "Western                       3.5\n",
            "Name: average_rating, Length: 160, dtype: float64\n",
            "\n",
            "count of average_rating   by genres:\n",
            "genres\n",
            "Action                        6\n",
            "Action,Adventure              1\n",
            "Action,Adventure,Animation    4\n",
            "Action,Animation,Comedy       2\n",
            "Action,Animation,Sci-Fi       1\n",
            "                             ..\n",
            "Short                         5\n",
            "Sport                         3\n",
            "Talk-Show                     1\n",
            "Thriller                      1\n",
            "Western                       1\n",
            "Name: average_rating, Length: 160, dtype: int64\n"
          ]
        }
      ]
    },
    {
      "cell_type": "code",
      "source": [
        "#Based on your analysis, provide a brief summary of any insights or patterns you discovered in the dataset\n"
      ],
      "metadata": {
        "id": "mQflMunl11qC"
      },
      "execution_count": 44,
      "outputs": []
    },
    {
      "cell_type": "code",
      "source": [],
      "metadata": {
        "id": "5Esc2GvL2A6j"
      },
      "execution_count": null,
      "outputs": []
    },
    {
      "cell_type": "markdown",
      "source": [
        "the dataset used here is summer_movie_genres which is a csv file. it tells about the movie, the genre the duration of the movie ,the rating and the people who have rated. it had missing values and outlires ,it has  both categorical and neumeric values."
      ],
      "metadata": {
        "id": "NlNL2bIC64T8"
      }
    }
  ]
}